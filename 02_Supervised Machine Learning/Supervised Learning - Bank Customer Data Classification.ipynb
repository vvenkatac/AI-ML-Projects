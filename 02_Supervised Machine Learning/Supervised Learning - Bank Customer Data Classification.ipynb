{
 "cells": [
  {
   "cell_type": "markdown",
   "metadata": {},
   "source": [
    "<h1>Supervised Learning - Bank Loan Data Classification </h1>"
   ]
  },
  {
   "cell_type": "markdown",
   "metadata": {},
   "source": [
    "<h3> OVERVIEW: </h3>\n",
    "Using data science in the banking industry has become a necessity to keep up with the competition. Banks collect, analyze, and store massive amounts of customer data. Machine learning and data science tools can harness this data to learn more about their clients behavior. Propensity modelling uses this large amount of data to make customer behavior predictions and retarget customers. Predictive analystics driven by such machine learning models can be used to determine which customers are more likely to avail a service such as buying a personal loan. This helps banks engage iwth customers through personalized customer interactions in relevant context.\n",
    "\n",
    "The key to success in marketing is to make a customized offer that suits the particular client’s needs and preferences. Data scientists utilize the behavioral, demographic, and historical purchase data to build a model that predicts the probability of a customer’s response to a promotion or an offer. Therefore, banks can make an efficient, personalized outreach that suits the particular customer's needs and preferences and improve their relationships with customers."
   ]
  },
  {
   "cell_type": "markdown",
   "metadata": {},
   "source": [
    "<h3> ABOUT THE DATA: </h3>\n",
    "\n",
    "The data in context is about a bank (Thera Bank) whose management wants to explore ways of converting its liability customers to personal loan customers (while retaining them as depositors). A campaign that the bank ran last year for liability customers showed a healthy conversion rate of over 9% success. This has encouraged the retail marketing department to devise campaigns with better target marketing to increase the success ratio with minimal budget. The dataset contained in the file Bank.xls contains data on 5000 customers. The data include customer demographic information (age, income, etc.), the customer's relationship with the bank (mortgage, securities account, etc.), and the customer response to the last personal loan campaign (Personal Loan). Among these 5000 customers, only 480 (= 9.6%) accepted the personal loan that was offered to them in the earlier campaign. The dtaa file attributes are:\n",
    "\n",
    "<ol> \n",
    "    <li>ID : Customer ID </li>\n",
    "    <li>Age : Customer's age in completed years</li>\n",
    "    <li>     Experience : #years of professional experience</li>\n",
    "    <li>     Income : Annual income of the customer</li>\n",
    "    <li>     ZIP Code : Home Address ZIP code.</li>\n",
    "    <li>     Family : Family size of the customer</li>\n",
    "    <li>     CCAvg : Avg. spending on credit cards per month</li>\n",
    "    <li>     Education Level.\n",
    "        <ol> 1. Undergrad 2. Graduate 3. Advanced/Professional </ol> </li>\n",
    "    <li> Mortgage : Value of house mortgage if any. ($000)</li>\n",
    "    <li> Proprietary content. ©Great Learning. All Rights Reserved. Unauthorized use or distribution prohibited. </li>\n",
    "    <li> Personal Loan : Did this customer accept the personal loan offered in the last campaign?</li>\n",
    "    <li> Securities Account : Does the customer have a securities account with the bank?</li>\n",
    "    <li> CD Account : Does the customer have a certificate of deposit (CD) account with the bank?</li>     \n",
    "    <li> Online : Does the customer use internet banking facilities?</li>\n",
    "    <li> Credit card : Does the customer use a credit card issued by UniversalBank? </li> \n",
    "</ol>"
   ]
  },
  {
   "cell_type": "markdown",
   "metadata": {},
   "source": [
    "<h3> OBJECTIVE </h3>\n",
    "The classification goal is to predict the likelihood of a liability customer buying personal loans by conducting:\n",
    "<ol> \n",
    "    <li> Exploratory Data Analysis </li>\n",
    "    <li> Preparing the data to train a model </li>\n",
    "    <li> Training and making predictions using a classification model </li>\n",
    "    <li> Model evaluation </li>\n",
    "</ol> "
   ]
  },
  {
   "cell_type": "markdown",
   "metadata": {},
   "source": [
    "<h3> 1. IMPORT THE NECESSARY LIBRARIES </h3>"
   ]
  },
  {
   "cell_type": "code",
   "execution_count": 1,
   "metadata": {},
   "outputs": [],
   "source": [
    "import numpy as np\n",
    "import pandas as pd\n",
    "import matplotlib.pyplot as plt\n",
    "import seaborn as sns\n",
    "sns.set()\n",
    "%matplotlib inline\n",
    "import warnings \n",
    "warnings.filterwarnings('ignore')\n",
    "\n",
    "from sklearn.linear_model import LogisticRegression\n",
    "from sklearn import metrics\n",
    "from sklearn.preprocessing import scale\n",
    "from sklearn.model_selection import train_test_split\n",
    "from sklearn.metrics import classification_report\n",
    "from sklearn.metrics import confusion_matrix\n",
    "from sklearn.metrics import accuracy_score\n",
    "\n",
    "from scipy.stats import zscore\n",
    "from sklearn import tree\n",
    "from sklearn.naive_bayes import GaussianNB\n",
    "from sklearn.neighbors import KNeighborsClassifier\n",
    "from sklearn import model_selection"
   ]
  },
  {
   "cell_type": "markdown",
   "metadata": {},
   "source": [
    "<h3> 2. LOAD THE DATA </h3>\n",
    "<li> Import the dataset and read into a dataframe </li>\n",
    "<li> Standardize the column names for the dataset </li>\n",
    "<li> Display the first 5 rows of the dataset to give an explarotary view of how the data looks like </li>"
   ]
  },
  {
   "cell_type": "code",
   "execution_count": 2,
   "metadata": {},
   "outputs": [
    {
     "data": {
      "text/html": [
       "<div>\n",
       "<style scoped>\n",
       "    .dataframe tbody tr th:only-of-type {\n",
       "        vertical-align: middle;\n",
       "    }\n",
       "\n",
       "    .dataframe tbody tr th {\n",
       "        vertical-align: top;\n",
       "    }\n",
       "\n",
       "    .dataframe thead th {\n",
       "        text-align: right;\n",
       "    }\n",
       "</style>\n",
       "<table border=\"1\" class=\"dataframe\">\n",
       "  <thead>\n",
       "    <tr style=\"text-align: right;\">\n",
       "      <th></th>\n",
       "      <th>ID</th>\n",
       "      <th>Age</th>\n",
       "      <th>Experience</th>\n",
       "      <th>Income</th>\n",
       "      <th>ZIPCode</th>\n",
       "      <th>Family</th>\n",
       "      <th>CCAvg</th>\n",
       "      <th>Education</th>\n",
       "      <th>Mortgage</th>\n",
       "      <th>PersonalLoan</th>\n",
       "      <th>SecuritiesAccount</th>\n",
       "      <th>CDAccount</th>\n",
       "      <th>Online</th>\n",
       "      <th>CreditCard</th>\n",
       "    </tr>\n",
       "  </thead>\n",
       "  <tbody>\n",
       "    <tr>\n",
       "      <th>0</th>\n",
       "      <td>1</td>\n",
       "      <td>25</td>\n",
       "      <td>1</td>\n",
       "      <td>49</td>\n",
       "      <td>91107</td>\n",
       "      <td>4</td>\n",
       "      <td>1.6</td>\n",
       "      <td>1</td>\n",
       "      <td>0</td>\n",
       "      <td>0</td>\n",
       "      <td>1</td>\n",
       "      <td>0</td>\n",
       "      <td>0</td>\n",
       "      <td>0</td>\n",
       "    </tr>\n",
       "    <tr>\n",
       "      <th>1</th>\n",
       "      <td>2</td>\n",
       "      <td>45</td>\n",
       "      <td>19</td>\n",
       "      <td>34</td>\n",
       "      <td>90089</td>\n",
       "      <td>3</td>\n",
       "      <td>1.5</td>\n",
       "      <td>1</td>\n",
       "      <td>0</td>\n",
       "      <td>0</td>\n",
       "      <td>1</td>\n",
       "      <td>0</td>\n",
       "      <td>0</td>\n",
       "      <td>0</td>\n",
       "    </tr>\n",
       "    <tr>\n",
       "      <th>2</th>\n",
       "      <td>3</td>\n",
       "      <td>39</td>\n",
       "      <td>15</td>\n",
       "      <td>11</td>\n",
       "      <td>94720</td>\n",
       "      <td>1</td>\n",
       "      <td>1.0</td>\n",
       "      <td>1</td>\n",
       "      <td>0</td>\n",
       "      <td>0</td>\n",
       "      <td>0</td>\n",
       "      <td>0</td>\n",
       "      <td>0</td>\n",
       "      <td>0</td>\n",
       "    </tr>\n",
       "    <tr>\n",
       "      <th>3</th>\n",
       "      <td>4</td>\n",
       "      <td>35</td>\n",
       "      <td>9</td>\n",
       "      <td>100</td>\n",
       "      <td>94112</td>\n",
       "      <td>1</td>\n",
       "      <td>2.7</td>\n",
       "      <td>2</td>\n",
       "      <td>0</td>\n",
       "      <td>0</td>\n",
       "      <td>0</td>\n",
       "      <td>0</td>\n",
       "      <td>0</td>\n",
       "      <td>0</td>\n",
       "    </tr>\n",
       "    <tr>\n",
       "      <th>4</th>\n",
       "      <td>5</td>\n",
       "      <td>35</td>\n",
       "      <td>8</td>\n",
       "      <td>45</td>\n",
       "      <td>91330</td>\n",
       "      <td>4</td>\n",
       "      <td>1.0</td>\n",
       "      <td>2</td>\n",
       "      <td>0</td>\n",
       "      <td>0</td>\n",
       "      <td>0</td>\n",
       "      <td>0</td>\n",
       "      <td>0</td>\n",
       "      <td>1</td>\n",
       "    </tr>\n",
       "  </tbody>\n",
       "</table>\n",
       "</div>"
      ],
      "text/plain": [
       "   ID  Age  Experience  Income  ZIPCode  Family  CCAvg  Education  Mortgage  \\\n",
       "0   1   25           1      49    91107       4    1.6          1         0   \n",
       "1   2   45          19      34    90089       3    1.5          1         0   \n",
       "2   3   39          15      11    94720       1    1.0          1         0   \n",
       "3   4   35           9     100    94112       1    2.7          2         0   \n",
       "4   5   35           8      45    91330       4    1.0          2         0   \n",
       "\n",
       "   PersonalLoan  SecuritiesAccount  CDAccount  Online  CreditCard  \n",
       "0             0                  1          0       0           0  \n",
       "1             0                  1          0       0           0  \n",
       "2             0                  0          0       0           0  \n",
       "3             0                  0          0       0           0  \n",
       "4             0                  0          0       0           1  "
      ]
     },
     "execution_count": 2,
     "metadata": {},
     "output_type": "execute_result"
    }
   ],
   "source": [
    "bank_df=pd.read_csv('Bank_Personal_Loan_Modelling.csv')\n",
    "bank_df.columns = [\"ID\",\"Age\",\"Experience\",\"Income\",\"ZIPCode\",\"Family\",\"CCAvg\",\"Education\",\"Mortgage\",\"PersonalLoan\",\"SecuritiesAccount\",\"CDAccount\",\"Online\",\"CreditCard\"]\n",
    "bank_df.head()"
   ]
  },
  {
   "cell_type": "markdown",
   "metadata": {},
   "source": [
    "<h3> 3. DATA INFORMATION AND DATA TYPES </h3>\n",
    "We will review the dataset for dimension, column description and ensure that all attributes are understood well\n",
    "<li> Check dimensions of data </li>\n",
    "<li> Check Information about the data and  datatypes of the  respective attributes.</li>\n",
    "<li> Check for missing values in the dataset. </li>\n",
    "<li> Check for negative values in the dataset. </li>"
   ]
  },
  {
   "cell_type": "code",
   "execution_count": 3,
   "metadata": {},
   "outputs": [
    {
     "data": {
      "text/plain": [
       "(5000, 14)"
      ]
     },
     "execution_count": 3,
     "metadata": {},
     "output_type": "execute_result"
    }
   ],
   "source": [
    "bank_df.shape # see the shape of the data"
   ]
  },
  {
   "cell_type": "code",
   "execution_count": 4,
   "metadata": {},
   "outputs": [
    {
     "name": "stdout",
     "output_type": "stream",
     "text": [
      "<class 'pandas.core.frame.DataFrame'>\n",
      "RangeIndex: 5000 entries, 0 to 4999\n",
      "Data columns (total 14 columns):\n",
      " #   Column             Non-Null Count  Dtype  \n",
      "---  ------             --------------  -----  \n",
      " 0   ID                 5000 non-null   int64  \n",
      " 1   Age                5000 non-null   int64  \n",
      " 2   Experience         5000 non-null   int64  \n",
      " 3   Income             5000 non-null   int64  \n",
      " 4   ZIPCode            5000 non-null   int64  \n",
      " 5   Family             5000 non-null   int64  \n",
      " 6   CCAvg              5000 non-null   float64\n",
      " 7   Education          5000 non-null   int64  \n",
      " 8   Mortgage           5000 non-null   int64  \n",
      " 9   PersonalLoan       5000 non-null   int64  \n",
      " 10  SecuritiesAccount  5000 non-null   int64  \n",
      " 11  CDAccount          5000 non-null   int64  \n",
      " 12  Online             5000 non-null   int64  \n",
      " 13  CreditCard         5000 non-null   int64  \n",
      "dtypes: float64(1), int64(13)\n",
      "memory usage: 547.0 KB\n"
     ]
    }
   ],
   "source": [
    "bank_df.info() # To see the data type of each of the variable, number of values entered in each of the variables"
   ]
  },
  {
   "cell_type": "code",
   "execution_count": 5,
   "metadata": {
    "scrolled": true
   },
   "outputs": [
    {
     "data": {
      "text/html": [
       "<div>\n",
       "<style scoped>\n",
       "    .dataframe tbody tr th:only-of-type {\n",
       "        vertical-align: middle;\n",
       "    }\n",
       "\n",
       "    .dataframe tbody tr th {\n",
       "        vertical-align: top;\n",
       "    }\n",
       "\n",
       "    .dataframe thead th {\n",
       "        text-align: right;\n",
       "    }\n",
       "</style>\n",
       "<table border=\"1\" class=\"dataframe\">\n",
       "  <thead>\n",
       "    <tr style=\"text-align: right;\">\n",
       "      <th></th>\n",
       "      <th>ID</th>\n",
       "      <th>Age</th>\n",
       "      <th>Experience</th>\n",
       "      <th>Income</th>\n",
       "      <th>ZIPCode</th>\n",
       "      <th>Family</th>\n",
       "      <th>CCAvg</th>\n",
       "      <th>Education</th>\n",
       "      <th>Mortgage</th>\n",
       "      <th>PersonalLoan</th>\n",
       "      <th>SecuritiesAccount</th>\n",
       "      <th>CDAccount</th>\n",
       "      <th>Online</th>\n",
       "      <th>CreditCard</th>\n",
       "    </tr>\n",
       "  </thead>\n",
       "  <tbody>\n",
       "    <tr>\n",
       "      <th>False</th>\n",
       "      <td>5000</td>\n",
       "      <td>5000</td>\n",
       "      <td>5000</td>\n",
       "      <td>5000</td>\n",
       "      <td>5000</td>\n",
       "      <td>5000</td>\n",
       "      <td>5000</td>\n",
       "      <td>5000</td>\n",
       "      <td>5000</td>\n",
       "      <td>5000</td>\n",
       "      <td>5000</td>\n",
       "      <td>5000</td>\n",
       "      <td>5000</td>\n",
       "      <td>5000</td>\n",
       "    </tr>\n",
       "  </tbody>\n",
       "</table>\n",
       "</div>"
      ],
      "text/plain": [
       "         ID   Age  Experience  Income  ZIPCode  Family  CCAvg  Education  \\\n",
       "False  5000  5000        5000    5000     5000    5000   5000       5000   \n",
       "\n",
       "       Mortgage  PersonalLoan  SecuritiesAccount  CDAccount  Online  \\\n",
       "False      5000          5000               5000       5000    5000   \n",
       "\n",
       "       CreditCard  \n",
       "False        5000  "
      ]
     },
     "execution_count": 5,
     "metadata": {},
     "output_type": "execute_result"
    }
   ],
   "source": [
    "bank_df.isna().apply(pd.value_counts)   #null value check"
   ]
  },
  {
   "cell_type": "code",
   "execution_count": 6,
   "metadata": {
    "scrolled": true
   },
   "outputs": [
    {
     "data": {
      "text/plain": [
       "ID                    0\n",
       "Age                   0\n",
       "Experience           52\n",
       "Income                0\n",
       "ZIPCode               0\n",
       "Family                0\n",
       "CCAvg                 0\n",
       "Education             0\n",
       "Mortgage              0\n",
       "PersonalLoan          0\n",
       "SecuritiesAccount     0\n",
       "CDAccount             0\n",
       "Online                0\n",
       "CreditCard            0\n",
       "dtype: int64"
      ]
     },
     "execution_count": 6,
     "metadata": {},
     "output_type": "execute_result"
    }
   ],
   "source": [
    "## A quick check for any negative values in the dataset\n",
    "bank_df.lt(0).sum()"
   ]
  },
  {
   "cell_type": "code",
   "execution_count": 7,
   "metadata": {},
   "outputs": [
    {
     "name": "stdout",
     "output_type": "stream",
     "text": [
      "Duplicate Rows except first occurrence based on all columns are :\n",
      "Empty DataFrame\n",
      "Columns: [ID, Age, Experience, Income, ZIPCode, Family, CCAvg, Education, Mortgage, PersonalLoan, SecuritiesAccount, CDAccount, Online, CreditCard]\n",
      "Index: []\n"
     ]
    }
   ],
   "source": [
    "duplicateRowsDF = bank_df[bank_df.duplicated()]\n",
    "print(\"Duplicate Rows except first occurrence based on all columns are :\")\n",
    "print(duplicateRowsDF)"
   ]
  },
  {
   "cell_type": "markdown",
   "metadata": {},
   "source": [
    "<H4> Profile Report (Observations) </H4>\n",
    "<li> There are 5000 Observations/Rows AND 14 Attributes/Columns </li>\n",
    "<li> There are no missing values or null values in the dataset </li>\n",
    "<li> Attribute \"Experience\" has 52 negative values </li>\n",
    "<li> There are no duplicate rows in the dataset </li>\n",
    "<li> The dataset contains: 7 Numerical variables: ‘Age’, ‘CC_Avg’, ‘ID’, ‘Income’, ‘Mortgage’, ‘Zip_Code’, ‘Experience’</li> \n",
    "<li> The dataset contains: 2 Categorical variables: ‘Education’, ‘Family’</li> \n",
    "<li> The dataset contains: 5 Boolean variables:  ‘CD_Account’, ‘Credit_Card’, ‘Online’, ‘Personal_Loan’, ‘Securities Account’</li> "
   ]
  },
  {
   "cell_type": "markdown",
   "metadata": {},
   "source": [
    "<h3> 4. UNIVARIATE ANALYSIS (Study of Data distribution of Each Attribute)  </h4>"
   ]
  },
  {
   "cell_type": "markdown",
   "metadata": {},
   "source": [
    "We will study the data distribution of each attribute of the Numerical, Categorical and Boolean type discussed above to summarize and find thrie patterns in the dataset"
   ]
  },
  {
   "cell_type": "markdown",
   "metadata": {},
   "source": [
    "<h4> Education </h4>"
   ]
  },
  {
   "cell_type": "code",
   "execution_count": 8,
   "metadata": {},
   "outputs": [
    {
     "data": {
      "image/png": "[encoded data removed]",
      "text/plain": [
       "<Figure size 432x288 with 1 Axes>"
      ]
     },
     "metadata": {
      "needs_background": "light"
     },
     "output_type": "display_data"
    }
   ],
   "source": [
    "# The following code plots a barplot using the seaborn package to estimate the frequency of Customer's education category in the dataset.\n",
    "Edu_dist=sns.barplot(x=\"Education\", y=\"Income\", data=bank_df, estimator=lambda x: len(x) / len(bank_df) * 100)"
   ]
  },
  {
   "cell_type": "markdown",
   "metadata": {},
   "source": [
    "<h4> Family </h4>"
   ]
  },
  {
   "cell_type": "code",
   "execution_count": 9,
   "metadata": {},
   "outputs": [
    {
     "data": {
      "image/png": "[encoded data removed]",
      "text/plain": [
       "<Figure size 432x288 with 1 Axes>"
      ]
     },
     "metadata": {
      "needs_background": "light"
     },
     "output_type": "display_data"
    }
   ],
   "source": [
    "# The following code plots a barplot using the seaborn package to estimate the frequency of Customer's Family category in the dataset.\n",
    "Family_dist=sns.barplot(x=\"Family\", y=\"Income\", data=bank_df, estimator=lambda x: len(x) / len(bank_df) * 100)"
   ]
  },
  {
   "cell_type": "markdown",
   "metadata": {},
   "source": [
    "<h4> CD Account (Certificate of Deposit Account) </h4>"
   ]
  },
  {
   "cell_type": "code",
   "execution_count": 10,
   "metadata": {},
   "outputs": [
    {
     "data": {
      "image/png": "[encoded data removed]",
      "text/plain": [
       "<Figure size 432x288 with 1 Axes>"
      ]
     },
     "metadata": {
      "needs_background": "light"
     },
     "output_type": "display_data"
    }
   ],
   "source": [
    "# The following code plots a barplot using the seaborn package to estimate the frequency of Customer's having a CD in the dataset.\n",
    "CD_dist=sns.barplot(x=\"CDAccount\", y=\"Income\", data=bank_df, estimator=lambda x: len(x) / len(bank_df) * 100)"
   ]
  },
  {
   "cell_type": "markdown",
   "metadata": {},
   "source": [
    "<h4> Credit Card </h4>"
   ]
  },
  {
   "cell_type": "code",
   "execution_count": 11,
   "metadata": {},
   "outputs": [
    {
     "data": {
      "image/png": "[encoded data removed]",
      "text/plain": [
       "<Figure size 432x288 with 1 Axes>"
      ]
     },
     "metadata": {
      "needs_background": "light"
     },
     "output_type": "display_data"
    }
   ],
   "source": [
    "# The following code plots a barplot using the seaborn package to estimate the frequency of Customer's having a Credit Card in the dataset.\n",
    "CC_dist=sns.barplot(x=\"CreditCard\", y=\"Income\", data=bank_df, estimator=lambda x: len(x) / len(bank_df) * 100)"
   ]
  },
  {
   "cell_type": "markdown",
   "metadata": {},
   "source": [
    "<h4> Online (Internet Banking Facilities) </h4>"
   ]
  },
  {
   "cell_type": "code",
   "execution_count": 12,
   "metadata": {},
   "outputs": [
    {
     "data": {
      "image/png": "[encoded data removed]",
      "text/plain": [
       "<Figure size 432x288 with 1 Axes>"
      ]
     },
     "metadata": {
      "needs_background": "light"
     },
     "output_type": "display_data"
    }
   ],
   "source": [
    "# The following code plots a barplot using the seaborn package to estimate the frequency of Customer's having Internet Banking in the dataset.\n",
    "CC_dist=sns.barplot(x=\"Online\", y=\"Income\", data=bank_df, estimator=lambda x: len(x) / len(bank_df) * 100)"
   ]
  },
  {
   "cell_type": "markdown",
   "metadata": {},
   "source": [
    "<h4> Personal Loan (Customer Accept the personal loan offered in last campaign) </h4>"
   ]
  },
  {
   "cell_type": "code",
   "execution_count": 13,
   "metadata": {},
   "outputs": [
    {
     "data": {
      "image/png": "[encoded data removed]",
      "text/plain": [
       "<Figure size 432x288 with 1 Axes>"
      ]
     },
     "metadata": {
      "needs_background": "light"
     },
     "output_type": "display_data"
    }
   ],
   "source": [
    "# The following code plots a barplot using the seaborn package to estimate the frequency of Customer's acceptoing personal loan previously in the dataset.\n",
    "CC_dist=sns.barplot(x=\"PersonalLoan\", y=\"Income\", data=bank_df, estimator=lambda x: len(x) / len(bank_df) * 100)"
   ]
  },
  {
   "cell_type": "markdown",
   "metadata": {},
   "source": [
    "<h4> Securities Account (Customer not having a Securities Account) </h4>"
   ]
  },
  {
   "cell_type": "code",
   "execution_count": 14,
   "metadata": {},
   "outputs": [
    {
     "data": {
      "image/png": "[encoded data removed]",
      "text/plain": [
       "<Figure size 432x288 with 1 Axes>"
      ]
     },
     "metadata": {
      "needs_background": "light"
     },
     "output_type": "display_data"
    }
   ],
   "source": [
    "# The following code plots a barplot using the seaborn package to estimate the frequency of Customer having a securities account in the dataset.\n",
    "CC_dist=sns.barplot(x=\"SecuritiesAccount\", y=\"Income\", data=bank_df, estimator=lambda x: len(x) / len(bank_df) * 100)"
   ]
  },
  {
   "cell_type": "markdown",
   "metadata": {},
   "source": [
    "<h4> 5 - point Summary </h4>\n",
    "We will examine the 5 point summary for the Numeric variables to  examine their univariate distribution in the dataset"
   ]
  },
  {
   "cell_type": "code",
   "execution_count": 15,
   "metadata": {
    "scrolled": true
   },
   "outputs": [
    {
     "data": {
      "text/html": [
       "<div>\n",
       "<style scoped>\n",
       "    .dataframe tbody tr th:only-of-type {\n",
       "        vertical-align: middle;\n",
       "    }\n",
       "\n",
       "    .dataframe tbody tr th {\n",
       "        vertical-align: top;\n",
       "    }\n",
       "\n",
       "    .dataframe thead th {\n",
       "        text-align: right;\n",
       "    }\n",
       "</style>\n",
       "<table border=\"1\" class=\"dataframe\">\n",
       "  <thead>\n",
       "    <tr style=\"text-align: right;\">\n",
       "      <th></th>\n",
       "      <th>ID</th>\n",
       "      <th>Age</th>\n",
       "      <th>Experience</th>\n",
       "      <th>Income</th>\n",
       "      <th>ZIPCode</th>\n",
       "      <th>Family</th>\n",
       "      <th>CCAvg</th>\n",
       "      <th>Education</th>\n",
       "      <th>Mortgage</th>\n",
       "      <th>PersonalLoan</th>\n",
       "      <th>SecuritiesAccount</th>\n",
       "      <th>CDAccount</th>\n",
       "      <th>Online</th>\n",
       "      <th>CreditCard</th>\n",
       "    </tr>\n",
       "  </thead>\n",
       "  <tbody>\n",
       "    <tr>\n",
       "      <th>count</th>\n",
       "      <td>5000.000000</td>\n",
       "      <td>5000.000000</td>\n",
       "      <td>5000.000000</td>\n",
       "      <td>5000.000000</td>\n",
       "      <td>5000.000000</td>\n",
       "      <td>5000.000000</td>\n",
       "      <td>5000.000000</td>\n",
       "      <td>5000.000000</td>\n",
       "      <td>5000.000000</td>\n",
       "      <td>5000.000000</td>\n",
       "      <td>5000.000000</td>\n",
       "      <td>5000.00000</td>\n",
       "      <td>5000.000000</td>\n",
       "      <td>5000.000000</td>\n",
       "    </tr>\n",
       "    <tr>\n",
       "      <th>mean</th>\n",
       "      <td>2500.500000</td>\n",
       "      <td>45.338400</td>\n",
       "      <td>20.104600</td>\n",
       "      <td>73.774200</td>\n",
       "      <td>93152.503000</td>\n",
       "      <td>2.396400</td>\n",
       "      <td>1.937938</td>\n",
       "      <td>1.881000</td>\n",
       "      <td>56.498800</td>\n",
       "      <td>0.096000</td>\n",
       "      <td>0.104400</td>\n",
       "      <td>0.06040</td>\n",
       "      <td>0.596800</td>\n",
       "      <td>0.294000</td>\n",
       "    </tr>\n",
       "    <tr>\n",
       "      <th>std</th>\n",
       "      <td>1443.520003</td>\n",
       "      <td>11.463166</td>\n",
       "      <td>11.467954</td>\n",
       "      <td>46.033729</td>\n",
       "      <td>2121.852197</td>\n",
       "      <td>1.147663</td>\n",
       "      <td>1.747659</td>\n",
       "      <td>0.839869</td>\n",
       "      <td>101.713802</td>\n",
       "      <td>0.294621</td>\n",
       "      <td>0.305809</td>\n",
       "      <td>0.23825</td>\n",
       "      <td>0.490589</td>\n",
       "      <td>0.455637</td>\n",
       "    </tr>\n",
       "    <tr>\n",
       "      <th>min</th>\n",
       "      <td>1.000000</td>\n",
       "      <td>23.000000</td>\n",
       "      <td>-3.000000</td>\n",
       "      <td>8.000000</td>\n",
       "      <td>9307.000000</td>\n",
       "      <td>1.000000</td>\n",
       "      <td>0.000000</td>\n",
       "      <td>1.000000</td>\n",
       "      <td>0.000000</td>\n",
       "      <td>0.000000</td>\n",
       "      <td>0.000000</td>\n",
       "      <td>0.00000</td>\n",
       "      <td>0.000000</td>\n",
       "      <td>0.000000</td>\n",
       "    </tr>\n",
       "    <tr>\n",
       "      <th>25%</th>\n",
       "      <td>1250.750000</td>\n",
       "      <td>35.000000</td>\n",
       "      <td>10.000000</td>\n",
       "      <td>39.000000</td>\n",
       "      <td>91911.000000</td>\n",
       "      <td>1.000000</td>\n",
       "      <td>0.700000</td>\n",
       "      <td>1.000000</td>\n",
       "      <td>0.000000</td>\n",
       "      <td>0.000000</td>\n",
       "      <td>0.000000</td>\n",
       "      <td>0.00000</td>\n",
       "      <td>0.000000</td>\n",
       "      <td>0.000000</td>\n",
       "    </tr>\n",
       "    <tr>\n",
       "      <th>50%</th>\n",
       "      <td>2500.500000</td>\n",
       "      <td>45.000000</td>\n",
       "      <td>20.000000</td>\n",
       "      <td>64.000000</td>\n",
       "      <td>93437.000000</td>\n",
       "      <td>2.000000</td>\n",
       "      <td>1.500000</td>\n",
       "      <td>2.000000</td>\n",
       "      <td>0.000000</td>\n",
       "      <td>0.000000</td>\n",
       "      <td>0.000000</td>\n",
       "      <td>0.00000</td>\n",
       "      <td>1.000000</td>\n",
       "      <td>0.000000</td>\n",
       "    </tr>\n",
       "    <tr>\n",
       "      <th>75%</th>\n",
       "      <td>3750.250000</td>\n",
       "      <td>55.000000</td>\n",
       "      <td>30.000000</td>\n",
       "      <td>98.000000</td>\n",
       "      <td>94608.000000</td>\n",
       "      <td>3.000000</td>\n",
       "      <td>2.500000</td>\n",
       "      <td>3.000000</td>\n",
       "      <td>101.000000</td>\n",
       "      <td>0.000000</td>\n",
       "      <td>0.000000</td>\n",
       "      <td>0.00000</td>\n",
       "      <td>1.000000</td>\n",
       "      <td>1.000000</td>\n",
       "    </tr>\n",
       "    <tr>\n",
       "      <th>max</th>\n",
       "      <td>5000.000000</td>\n",
       "      <td>67.000000</td>\n",
       "      <td>43.000000</td>\n",
       "      <td>224.000000</td>\n",
       "      <td>96651.000000</td>\n",
       "      <td>4.000000</td>\n",
       "      <td>10.000000</td>\n",
       "      <td>3.000000</td>\n",
       "      <td>635.000000</td>\n",
       "      <td>1.000000</td>\n",
       "      <td>1.000000</td>\n",
       "      <td>1.00000</td>\n",
       "      <td>1.000000</td>\n",
       "      <td>1.000000</td>\n",
       "    </tr>\n",
       "  </tbody>\n",
       "</table>\n",
       "</div>"
      ],
      "text/plain": [
       "                ID          Age   Experience       Income       ZIPCode  \\\n",
       "count  5000.000000  5000.000000  5000.000000  5000.000000   5000.000000   \n",
       "mean   2500.500000    45.338400    20.104600    73.774200  93152.503000   \n",
       "std    1443.520003    11.463166    11.467954    46.033729   2121.852197   \n",
       "min       1.000000    23.000000    -3.000000     8.000000   9307.000000   \n",
       "25%    1250.750000    35.000000    10.000000    39.000000  91911.000000   \n",
       "50%    2500.500000    45.000000    20.000000    64.000000  93437.000000   \n",
       "75%    3750.250000    55.000000    30.000000    98.000000  94608.000000   \n",
       "max    5000.000000    67.000000    43.000000   224.000000  96651.000000   \n",
       "\n",
       "            Family        CCAvg    Education     Mortgage  PersonalLoan  \\\n",
       "count  5000.000000  5000.000000  5000.000000  5000.000000   5000.000000   \n",
       "mean      2.396400     1.937938     1.881000    56.498800      0.096000   \n",
       "std       1.147663     1.747659     0.839869   101.713802      0.294621   \n",
       "min       1.000000     0.000000     1.000000     0.000000      0.000000   \n",
       "25%       1.000000     0.700000     1.000000     0.000000      0.000000   \n",
       "50%       2.000000     1.500000     2.000000     0.000000      0.000000   \n",
       "75%       3.000000     2.500000     3.000000   101.000000      0.000000   \n",
       "max       4.000000    10.000000     3.000000   635.000000      1.000000   \n",
       "\n",
       "       SecuritiesAccount   CDAccount       Online   CreditCard  \n",
       "count        5000.000000  5000.00000  5000.000000  5000.000000  \n",
       "mean            0.104400     0.06040     0.596800     0.294000  \n",
       "std             0.305809     0.23825     0.490589     0.455637  \n",
       "min             0.000000     0.00000     0.000000     0.000000  \n",
       "25%             0.000000     0.00000     0.000000     0.000000  \n",
       "50%             0.000000     0.00000     1.000000     0.000000  \n",
       "75%             0.000000     0.00000     1.000000     1.000000  \n",
       "max             1.000000     1.00000     1.000000     1.000000  "
      ]
     },
     "execution_count": 15,
     "metadata": {},
     "output_type": "execute_result"
    }
   ],
   "source": [
    "bank_df.describe()"
   ]
  },
  {
   "cell_type": "markdown",
   "metadata": {},
   "source": [
    "<h4> Skewness </h4>"
   ]
  },
  {
   "cell_type": "code",
   "execution_count": 16,
   "metadata": {},
   "outputs": [
    {
     "data": {
      "text/plain": [
       "ID                    0.000000\n",
       "Age                  -0.029341\n",
       "Experience           -0.026325\n",
       "Income                0.841339\n",
       "ZIPCode             -12.500221\n",
       "Family                0.155221\n",
       "CCAvg                 1.598443\n",
       "Education             0.227093\n",
       "Mortgage              2.104002\n",
       "PersonalLoan          2.743607\n",
       "SecuritiesAccount     2.588268\n",
       "CDAccount             3.691714\n",
       "Online               -0.394785\n",
       "CreditCard            0.904589\n",
       "dtype: float64"
      ]
     },
     "execution_count": 16,
     "metadata": {},
     "output_type": "execute_result"
    }
   ],
   "source": [
    "bank_df.skew(axis = 0, skipna = True) "
   ]
  },
  {
   "cell_type": "markdown",
   "metadata": {},
   "source": [
    "<h4> UNIVARIATE ANALYSIS OF NUMERICAL VARIABLES </h4>"
   ]
  },
  {
   "cell_type": "code",
   "execution_count": 17,
   "metadata": {
    "scrolled": true
   },
   "outputs": [
    {
     "data": {
      "image/png": "[encoded data removed]",
      "text/plain": [
       "<Figure size 2916x2916 with 5 Axes>"
      ]
     },
     "metadata": {
      "needs_background": "light"
     },
     "output_type": "display_data"
    }
   ],
   "source": [
    "plt.figure(figsize= (40.5,40.5))\n",
    "plt.subplot(5,3,1)\n",
    "plt.hist(bank_df.Age, color='blue', edgecolor = 'black')\n",
    "plt.xlabel('Age')\n",
    "\n",
    "plt.subplot(5,3,2)\n",
    "plt.hist(bank_df.Experience, color='green', edgecolor = 'black')\n",
    "plt.xlabel('Experience')\n",
    "\n",
    "plt.subplot(5,3,3)\n",
    "plt.hist(bank_df.Income, color='pink', edgecolor = 'black')\n",
    "plt.xlabel('Income')\n",
    "\n",
    "plt.subplot(5,3,4)\n",
    "plt.hist(bank_df.CCAvg, color='yellow', edgecolor = 'black')\n",
    "plt.xlabel('Credit Card Average')\n",
    "\n",
    "plt.subplot(5,3,5)\n",
    "plt.hist(bank_df.Mortgage, color='orange', edgecolor = 'black')\n",
    "plt.xlabel('Mortgage')\n",
    "\n",
    "plt.show()"
   ]
  },
  {
   "cell_type": "markdown",
   "metadata": {},
   "source": [
    "<h4> Observation </h4>\n",
    "\n",
    "- Age & Experience seems to be quiet normally distributed.\n",
    "- Income, CCAvg and Mortgage are Positively skewed, as they are highly skewed there will be quiet a lot of extreme values"
   ]
  },
  {
   "cell_type": "code",
   "execution_count": 18,
   "metadata": {},
   "outputs": [
    {
     "data": {
      "text/plain": [
       "<AxesSubplot:xlabel='Mortgage'>"
      ]
     },
     "execution_count": 18,
     "metadata": {},
     "output_type": "execute_result"
    },
    {
     "data": {
      "image/png": "[encoded data removed]",
      "text/plain": [
       "<Figure size 1800x1800 with 5 Axes>"
      ]
     },
     "metadata": {
      "needs_background": "light"
     },
     "output_type": "display_data"
    }
   ],
   "source": [
    "plt.figure(figsize= (25,25))\n",
    "plt.subplot(5,2,1)\n",
    "sns.boxplot(x= bank_df.Age, color='blue')\n",
    "\n",
    "plt.subplot(5,2,2)\n",
    "sns.boxplot(x= bank_df.Experience, color='green')\n",
    "\n",
    "plt.subplot(5,2,3)\n",
    "sns.boxplot(x= bank_df.Income, color='yellow')\n",
    "\n",
    "plt.subplot(5,2,4)\n",
    "sns.boxplot(x= bank_df.CCAvg, color='pink')\n",
    "\n",
    "plt.subplot(5,2,5)\n",
    "sns.boxplot(x= bank_df.Mortgage, color='orange')"
   ]
  },
  {
   "cell_type": "markdown",
   "metadata": {},
   "source": [
    "<h4> UNIVARIATE ANALYSIS (Inference) </h4>\n",
    "From the above Univariate Analysis of Categoical, Boolean and Numerical attributes in the dataset, we can conclude that:\n",
    "<h5> Categorical Attributes </h5>\n",
    "<li> 42% of the candidates are graduated, while 30% are professional and 28% are Undergraduate. </li>\n",
    "<li> 29% of the customer’s family size is 1, 26% with family size 2, 21% with family size 3 and 24% with with family size 4  </li>\n",
    "\n",
    "<h5> Boolean  Attributes </h5>\n",
    "<li> Above 90% of the customers doen’t have a certificate of deposit (CD) account with the bank. </li>\n",
    "<li> Around 71% of the customer doesn’t use a credit card issued by UniversalBank. </li>\n",
    "<li> Around 60% of customers use internet banking facilities.</li> \n",
    "<li> Around 90% of the customer doesn’t accept the personal loan offered in the last campaign.</li> \n",
    "<li> Around 90% of the customer doesn’t have a securities account with the bank.</li> \n",
    "\n",
    "<h5> Numerical  Attributes </h5>\n",
    "<li> Age is normally distributed with majortiy between 35 and 45. The mean age of the customers is 45 with standard deviation of 11.5. </li>\n",
    "<li> Mean is normally distributed with majortiy between 11 and 30. The mean experience of the customers is 20 with standard deviation of 11.5. </li>\n",
    "<li> The mean of Avg. spending on credit cards per month is 1.93 with standard deviation of 1.75. The curve is highly positive skewed (Skewness = 1.598443) </li>\n",
    "<li> The Income is positively skewed and mean annual income of the customer is 73.77 with standard deviation of 46. The curve is moderately positive skewed (Skewness = 0.841339).</li> \n",
    "<li> The mean value of house mortgage is 56.5 with standard deviation of 101.71. The curve is highly positive skewed (Skewness = 2.104002) and there are lots of outliers. </li> \n",
    "<li> CCAvg is also a positively skewed variable and average spending is between 0K to 10K and majority spends less than 2.5K. </li>\n",
    "<li> ‘ID’, ‘ZIP_Code’ & ‘Experience’ columns for further analysis since ‘ID’ and ‘ZIP_Code’ are just numbers of series & ‘Experience’ is highly correlated with ‘Age’. </li>"
   ]
  },
  {
   "cell_type": "markdown",
   "metadata": {},
   "source": [
    "<h3> 5. BIVARIATE ANALYSIS (Study of Data distribution of Each Attribute)  </h3>\n",
    "Through Bivariate analysis \n",
    "\n",
    "Through bivariate analysis we try to analyze two variables simultaneously. As opposed to univariate analysis where we check the characteristics of a single variable, in bivariate analysis we try to determine if there is any relationship between two variables.\n",
    "\n",
    "In our Bank Customer Loan dataset, this essentially invovles 3 scenarios that needs to be analyzed:\n",
    "<ol> <li> Categorical Variable vs Target Variable: </li>\n",
    "        <ol> <li> Education vs Personal Loan </li>\n",
    "            <li> Family size vs Personal Loan </li>  \n",
    "        </ol>\n",
    "    <li> Boolean Variable vs Target Variable: </li>\n",
    "        <ol> <li> Customers having CD Account vs Personal Loan </li>\n",
    "            <li> Customers using credit card vs Personal Loan </li>\n",
    "            <li> Customers using Internet Banking vs Personal Loan </li>\n",
    "            <li> Customers having Securities Account vs Personal Loan </li>\n",
    "        </ol>\n",
    "    <li> Numeric Variable vs Target Variable: </li>\n",
    "        <ol> <li> Age of customer vs Personal Loan </li>\n",
    "            <li> Average credit card spending vs Personal Loan </li>\n",
    "            <li> Annual Income vs Personal Loan </li>\n",
    "            <li> Mean value of House mortgage vs Personal Loan </li>\n",
    "        </ol>\n",
    "</ol>"
   ]
  },
  {
   "cell_type": "markdown",
   "metadata": {},
   "source": [
    "<h4> CATEGORICAL VARIABLE vs TARGET VARIABLE </h4>\n",
    "We will first examine the relation between the target variable and the categorical variable using a stacked bar plot"
   ]
  },
  {
   "cell_type": "markdown",
   "metadata": {},
   "source": [
    "<h5> Education vs Personal Loan </h5>\n",
    "We will plot the cross tab between Education and Personal Loan. We will then normalize and compute the pecentages of loan buyers by  educational level and plot a stacked bar plot beween the two to study the relation between the two    "
   ]
  },
  {
   "cell_type": "code",
   "execution_count": 19,
   "metadata": {
    "scrolled": true
   },
   "outputs": [
    {
     "name": "stdout",
     "output_type": "stream",
     "text": [
      "Cross tabulation can be given as \n",
      " PersonalLoan     0    1\n",
      "Education              \n",
      "1             2003   93\n",
      "2             1221  182\n",
      "3             1296  205\n",
      "Cross tabulation in percentage can be given as \n",
      " PersonalLoan         0         1\n",
      "Education                       \n",
      "1             0.955630  0.044370\n",
      "2             0.870278  0.129722\n",
      "3             0.863424  0.136576\n"
     ]
    },
    {
     "data": {
      "text/plain": [
       "<AxesSubplot:xlabel='Education'>"
      ]
     },
     "execution_count": 19,
     "metadata": {},
     "output_type": "execute_result"
    },
    {
     "data": {
      "image/png": "[encoded data removed]",
      "text/plain": [
       "<Figure size 432x288 with 1 Axes>"
      ]
     },
     "metadata": {
      "needs_background": "light"
     },
     "output_type": "display_data"
    }
   ],
   "source": [
    "edu_loan = pd.crosstab(bank_df.Education,bank_df.PersonalLoan)\n",
    "edu_loan_percent = pd.crosstab(bank_df.Education,bank_df.PersonalLoan, normalize='index')\n",
    "print('Cross tabulation can be given as','\\n',edu_loan)\n",
    "print('Cross tabulation in percentage can be given as','\\n',edu_loan_percent)\n",
    "edu_loan_percent.plot(kind='bar',stacked='True')"
   ]
  },
  {
   "cell_type": "markdown",
   "metadata": {},
   "source": [
    "***From the above cross tab and plot we can infer that persons who are more eductaed have a higher probability of buying personal loans***"
   ]
  },
  {
   "cell_type": "markdown",
   "metadata": {},
   "source": [
    "<h5> Family size vs Personal Loan </h5>\n",
    "We will plot the cross tab between Family size and Personal Loan. We will then normalize and compute the pecentages of loan buyers by  family size and plot a stacked bar plot beween the two to study the relation between the two "
   ]
  },
  {
   "cell_type": "code",
   "execution_count": 20,
   "metadata": {
    "scrolled": true
   },
   "outputs": [
    {
     "name": "stdout",
     "output_type": "stream",
     "text": [
      "Cross tabulation can be given as \n",
      " PersonalLoan     0    1\n",
      "Family                 \n",
      "1             1365  107\n",
      "2             1190  106\n",
      "3              877  133\n",
      "4             1088  134\n",
      "Cross tabulation in percentage can be given as \n",
      " PersonalLoan         0         1\n",
      "Family                          \n",
      "1             0.927310  0.072690\n",
      "2             0.918210  0.081790\n",
      "3             0.868317  0.131683\n",
      "4             0.890344  0.109656\n"
     ]
    },
    {
     "data": {
      "text/plain": [
       "<AxesSubplot:xlabel='Education'>"
      ]
     },
     "execution_count": 20,
     "metadata": {},
     "output_type": "execute_result"
    },
    {
     "data": {
      "image/png": "[encoded data removed]",
      "text/plain": [
       "<Figure size 432x288 with 1 Axes>"
      ]
     },
     "metadata": {
      "needs_background": "light"
     },
     "output_type": "display_data"
    }
   ],
   "source": [
    "family_loan = pd.crosstab(bank_df.Family,bank_df.PersonalLoan)\n",
    "family_loan_percent = pd.crosstab(bank_df.Family,bank_df.PersonalLoan, normalize='index')\n",
    "print('Cross tabulation can be given as','\\n',family_loan)\n",
    "print('Cross tabulation in percentage can be given as','\\n',family_loan_percent)\n",
    "edu_loan_percent.plot(kind='bar',stacked='True')"
   ]
  },
  {
   "cell_type": "markdown",
   "metadata": {},
   "source": [
    "***From the above cross tab and plot we can infer that number of family members do not influence the probability of buying personal loans much.***"
   ]
  },
  {
   "cell_type": "markdown",
   "metadata": {},
   "source": [
    "<h4> BOOLEAN VARIABLE vs TARGET VARIABLE </h4>\n",
    "We will next examine the relation between the Boolean variables (‘CD_Account’, ‘Credit_Card’, ‘Online’, ‘Securities Account’) vs Target variable (‘Personal_Loan’) using the crosstab function and stacked bar plot to compare. "
   ]
  },
  {
   "cell_type": "code",
   "execution_count": 21,
   "metadata": {},
   "outputs": [
    {
     "name": "stdout",
     "output_type": "stream",
     "text": [
      "Cross tabulation can be given as \n",
      " PersonalLoan     0    1\n",
      "CDAccount              \n",
      "0             4358  340\n",
      "1              162  140\n",
      "Cross tabulation in percentage can be given as \n",
      " PersonalLoan         0         1\n",
      "CDAccount                       \n",
      "0             0.927629  0.072371\n",
      "1             0.536424  0.463576\n"
     ]
    },
    {
     "data": {
      "text/plain": [
       "<AxesSubplot:xlabel='CDAccount'>"
      ]
     },
     "execution_count": 21,
     "metadata": {},
     "output_type": "execute_result"
    },
    {
     "data": {
      "image/png": "[encoded data removed]",
      "text/plain": [
       "<Figure size 432x288 with 1 Axes>"
      ]
     },
     "metadata": {
      "needs_background": "light"
     },
     "output_type": "display_data"
    }
   ],
   "source": [
    "CD_loan = pd.crosstab(bank_df.CDAccount,bank_df.PersonalLoan)\n",
    "CD_loan_percent = pd.crosstab(bank_df.CDAccount,bank_df.PersonalLoan, normalize='index')\n",
    "print('Cross tabulation can be given as','\\n',CD_loan)\n",
    "print('Cross tabulation in percentage can be given as','\\n',CD_loan_percent)\n",
    "CD_loan_percent.plot(kind='bar',stacked='True')"
   ]
  },
  {
   "cell_type": "code",
   "execution_count": 22,
   "metadata": {},
   "outputs": [
    {
     "name": "stdout",
     "output_type": "stream",
     "text": [
      "Cross tabulation can be given as \n",
      " PersonalLoan     0    1\n",
      "CreditCard             \n",
      "0             3193  337\n",
      "1             1327  143\n",
      "Cross tabulation in percentage can be given as \n",
      " PersonalLoan         0         1\n",
      "CreditCard                      \n",
      "0             0.904533  0.095467\n",
      "1             0.902721  0.097279\n"
     ]
    },
    {
     "data": {
      "text/plain": [
       "<AxesSubplot:xlabel='CreditCard'>"
      ]
     },
     "execution_count": 22,
     "metadata": {},
     "output_type": "execute_result"
    },
    {
     "data": {
      "image/png": "[encoded data removed]",
      "text/plain": [
       "<Figure size 432x288 with 1 Axes>"
      ]
     },
     "metadata": {
      "needs_background": "light"
     },
     "output_type": "display_data"
    }
   ],
   "source": [
    "CreditCard_loan = pd.crosstab(bank_df.CreditCard,bank_df.PersonalLoan)\n",
    "CreditCard_loan_percent = pd.crosstab(bank_df.CreditCard,bank_df.PersonalLoan, normalize='index')\n",
    "print('Cross tabulation can be given as','\\n',CreditCard_loan)\n",
    "print('Cross tabulation in percentage can be given as','\\n',CreditCard_loan_percent)\n",
    "CreditCard_loan_percent.plot(kind='bar',stacked='True')"
   ]
  },
  {
   "cell_type": "code",
   "execution_count": 23,
   "metadata": {},
   "outputs": [
    {
     "name": "stdout",
     "output_type": "stream",
     "text": [
      "Cross tabulation can be given as \n",
      " PersonalLoan     0    1\n",
      "Online                 \n",
      "0             1827  189\n",
      "1             2693  291\n",
      "Cross tabulation in percentage can be given as \n",
      " PersonalLoan        0        1\n",
      "Online                        \n",
      "0             0.90625  0.09375\n",
      "1             0.90248  0.09752\n"
     ]
    },
    {
     "data": {
      "text/plain": [
       "<AxesSubplot:xlabel='Online'>"
      ]
     },
     "execution_count": 23,
     "metadata": {},
     "output_type": "execute_result"
    },
    {
     "data": {
      "image/png": "[encoded data removed]",
      "text/plain": [
       "<Figure size 432x288 with 1 Axes>"
      ]
     },
     "metadata": {
      "needs_background": "light"
     },
     "output_type": "display_data"
    }
   ],
   "source": [
    "Online_loan = pd.crosstab(bank_df.Online,bank_df.PersonalLoan)\n",
    "Online_loan_percent = pd.crosstab(bank_df.Online,bank_df.PersonalLoan, normalize='index')\n",
    "print('Cross tabulation can be given as','\\n',Online_loan)\n",
    "print('Cross tabulation in percentage can be given as','\\n',Online_loan_percent)\n",
    "Online_loan_percent.plot(kind='bar',stacked='True')"
   ]
  },
  {
   "cell_type": "code",
   "execution_count": 24,
   "metadata": {},
   "outputs": [
    {
     "name": "stdout",
     "output_type": "stream",
     "text": [
      "Cross tabulation can be given as \n",
      " PersonalLoan          0    1\n",
      "SecuritiesAccount           \n",
      "0                  4058  420\n",
      "1                   462   60\n",
      "Cross tabulation in percentage can be given as \n",
      " PersonalLoan              0         1\n",
      "SecuritiesAccount                    \n",
      "0                  0.906208  0.093792\n",
      "1                  0.885057  0.114943\n"
     ]
    },
    {
     "data": {
      "text/plain": [
       "<AxesSubplot:xlabel='Online'>"
      ]
     },
     "execution_count": 24,
     "metadata": {},
     "output_type": "execute_result"
    },
    {
     "data": {
      "image/png": "[encoded data removed]",
      "text/plain": [
       "<Figure size 432x288 with 1 Axes>"
      ]
     },
     "metadata": {
      "needs_background": "light"
     },
     "output_type": "display_data"
    }
   ],
   "source": [
    "Securities_loan = pd.crosstab(bank_df.SecuritiesAccount,bank_df.PersonalLoan)\n",
    "Securities_loan_percent = pd.crosstab(bank_df.SecuritiesAccount,bank_df.PersonalLoan, normalize='index')\n",
    "print('Cross tabulation can be given as','\\n',Securities_loan)\n",
    "print('Cross tabulation in percentage can be given as','\\n',Securities_loan_percent)\n",
    "Online_loan_percent.plot(kind='bar',stacked='True')"
   ]
  },
  {
   "cell_type": "markdown",
   "metadata": {},
   "source": [
    "**From the above cross tab and stacked bar plots for Boolean Variable vs Target Variable we can infer that** \n",
    "<li> Customers who have a certificate of deposit (CD) account with the bank seem to have affect probability of buying a personal loan from the bank in the past.</li>\n",
    "<li> Customers who use or do not use a credit card issued by UniversalBank do not seem to affect the probability of buying a personal loan.</li>\n",
    "<li> Customers who use or do not use use internet banking facilities seems to not affect the probability of buying personal loan.</li>\n",
    "<li> Customers who have or don’t have securities account with the bank do not affect the probability of buying a personal loan. </li> "
   ]
  },
  {
   "cell_type": "markdown",
   "metadata": {},
   "source": [
    "<h4> NUMERIC INDEPENDENT VARIABLE vs TARGET VARIABLE </h4>\n",
    "We will next examine the relation between the Numeric Independent Variable (‘Age’, ‘CC_Avg’ ‘Income’, ‘Mortgage’, ‘Experience’) vs Target variable (‘Personal_Loan’). For this purpose, we will compute and compare the mean of the Independent variable for which the customer buys the loan vs mean of the Independent variable for which the customer does not buy the loan using the dataframe.groupby() function."
   ]
  },
  {
   "cell_type": "code",
   "execution_count": 25,
   "metadata": {},
   "outputs": [
    {
     "name": "stdout",
     "output_type": "stream",
     "text": [
      "PersonalLoan\n",
      "0    45.367257\n",
      "1    45.066667\n",
      "Name: Age, dtype: float64\n"
     ]
    }
   ],
   "source": [
    "print(bank_df.groupby('PersonalLoan')['Age'].mean())\n",
    "#bank_df.groupby('PersonalLoan')['Age']"
   ]
  },
  {
   "cell_type": "code",
   "execution_count": 26,
   "metadata": {},
   "outputs": [
    {
     "data": {
      "text/plain": [
       "<AxesSubplot:xlabel='PersonalLoan'>"
      ]
     },
     "execution_count": 26,
     "metadata": {},
     "output_type": "execute_result"
    },
    {
     "data": {
      "image/png": "[encoded data removed]",
      "text/plain": [
       "<Figure size 432x288 with 1 Axes>"
      ]
     },
     "metadata": {
      "needs_background": "light"
     },
     "output_type": "display_data"
    }
   ],
   "source": [
    "bank_df.groupby('PersonalLoan')['Age'].mean().plot(kind='bar')"
   ]
  },
  {
   "cell_type": "code",
   "execution_count": 27,
   "metadata": {},
   "outputs": [
    {
     "name": "stdout",
     "output_type": "stream",
     "text": [
      "PersonalLoan\n",
      "0    1.729009\n",
      "1    3.905354\n",
      "Name: CCAvg, dtype: float64\n"
     ]
    }
   ],
   "source": [
    "print(bank_df.groupby('PersonalLoan')['CCAvg'].mean())"
   ]
  },
  {
   "cell_type": "code",
   "execution_count": 28,
   "metadata": {},
   "outputs": [
    {
     "data": {
      "text/plain": [
       "<AxesSubplot:xlabel='PersonalLoan'>"
      ]
     },
     "execution_count": 28,
     "metadata": {},
     "output_type": "execute_result"
    },
    {
     "data": {
      "image/png": "[encoded data removed]",
      "text/plain": [
       "<Figure size 432x288 with 1 Axes>"
      ]
     },
     "metadata": {
      "needs_background": "light"
     },
     "output_type": "display_data"
    }
   ],
   "source": [
    "bank_df.groupby('PersonalLoan')['CCAvg'].mean().plot(kind='bar')"
   ]
  },
  {
   "cell_type": "code",
   "execution_count": 29,
   "metadata": {},
   "outputs": [
    {
     "name": "stdout",
     "output_type": "stream",
     "text": [
      "PersonalLoan\n",
      "0     66.237389\n",
      "1    144.745833\n",
      "Name: Income, dtype: float64\n"
     ]
    }
   ],
   "source": [
    "print(bank_df.groupby('PersonalLoan')['Income'].mean())"
   ]
  },
  {
   "cell_type": "code",
   "execution_count": 30,
   "metadata": {},
   "outputs": [
    {
     "data": {
      "text/plain": [
       "<AxesSubplot:xlabel='PersonalLoan'>"
      ]
     },
     "execution_count": 30,
     "metadata": {},
     "output_type": "execute_result"
    },
    {
     "data": {
      "image/png": "[encoded data removed]",
      "text/plain": [
       "<Figure size 432x288 with 1 Axes>"
      ]
     },
     "metadata": {
      "needs_background": "light"
     },
     "output_type": "display_data"
    }
   ],
   "source": [
    "bank_df.groupby('PersonalLoan')['Income'].mean().plot(kind='bar')"
   ]
  },
  {
   "cell_type": "code",
   "execution_count": 55,
   "metadata": {},
   "outputs": [
    {
     "name": "stdout",
     "output_type": "stream",
     "text": [
      "PersonalLoan\n",
      "0    46.787539\n",
      "1    60.695150\n",
      "Name: Mortgage, dtype: float64\n"
     ]
    }
   ],
   "source": [
    "#print(bank_df.groupby('PersonalLoan')['Mortgage'].mean())\n",
    "df1 = bank_df.groupby('PersonalLoan')['Mortgage'].mean()\n",
    "print (df1)"
   ]
  },
  {
   "cell_type": "code",
   "execution_count": 32,
   "metadata": {},
   "outputs": [
    {
     "data": {
      "text/plain": [
       "<AxesSubplot:xlabel='PersonalLoan'>"
      ]
     },
     "execution_count": 32,
     "metadata": {},
     "output_type": "execute_result"
    },
    {
     "data": {
      "image/png": "[encoded data removed]",
      "text/plain": [
       "<Figure size 432x288 with 1 Axes>"
      ]
     },
     "metadata": {
      "needs_background": "light"
     },
     "output_type": "display_data"
    }
   ],
   "source": [
    "bank_df.groupby('PersonalLoan')['Mortgage'].mean().plot(kind='bar')"
   ]
  },
  {
   "cell_type": "markdown",
   "metadata": {},
   "source": [
    "**From the above groupby() and bar plots for Numerical Independent Variable vs Target Variable we can infer that** \n",
    "<li> Customers Age does not seem to affect probability of buying a personal loan from the bank.</li>\n",
    "<li> Customers who have a higher average spending on the credit cards seem more probable of buying a personal loan.</li>\n",
    "<li> Customers who have a higher Annual Income seem more probable of buying personal loan.</li>\n",
    "<li> Customers who have a higher mortgage are more probable of buying a personal loan. </li> "
   ]
  },
  {
   "cell_type": "markdown",
   "metadata": {},
   "source": [
    "<h4> Checking for Correlation </h4>"
   ]
  },
  {
   "cell_type": "code",
   "execution_count": 33,
   "metadata": {},
   "outputs": [
    {
     "data": {
      "text/plain": [
       "<AxesSubplot:>"
      ]
     },
     "execution_count": 33,
     "metadata": {},
     "output_type": "execute_result"
    },
    {
     "data": {
      "image/png": "[encoded data removed]",
      "text/plain": [
       "<Figure size 1080x720 with 2 Axes>"
      ]
     },
     "metadata": {
      "needs_background": "light"
     },
     "output_type": "display_data"
    }
   ],
   "source": [
    "# Correlation with heat map\n",
    "plt.figure(figsize = (15,10))\n",
    "sns.heatmap(bank_df.corr(), annot = True )"
   ]
  },
  {
   "cell_type": "markdown",
   "metadata": {},
   "source": [
    "<h4> Observation </h4>\n",
    "<li> Age and  Experience are highly corelated </li>\n",
    "<li> Income and CCAvg are also corelated moderately </li>"
   ]
  },
  {
   "cell_type": "markdown",
   "metadata": {},
   "source": [
    "<h3> 6. PREPROCESSING (Treat Missing Values, Negative Values and Outliers)  </h3>\n",
    "As observed in the Profile Report initially:\n",
    "<li> Dataset does not contain any missing values. </li> \n",
    "<li> Dataset contains 52 negative values for 'Experience; </li>\n",
    "<li> Dataset contains outliers for 'Mortgage' </li>\n",
    "\n",
    "All the above required to be treated before we move to model building"
   ]
  },
  {
   "cell_type": "markdown",
   "metadata": {},
   "source": [
    "<h4> Negative Value  Treatement for 'Experience' </h4>"
   ]
  },
  {
   "cell_type": "code",
   "execution_count": 34,
   "metadata": {},
   "outputs": [],
   "source": [
    "dfposExp = bank_df.loc[bank_df['Experience'] >0]\n",
    "mask = bank_df.Experience < 0\n",
    "column_name = 'Experience'\n",
    "mylist = bank_df.loc[mask]['ID'].tolist()"
   ]
  },
  {
   "cell_type": "code",
   "execution_count": 35,
   "metadata": {},
   "outputs": [],
   "source": [
    "for id in mylist:\n",
    "    age = bank_df.loc[np.where(bank_df['ID']==id)][\"Age\"].tolist()[0]\n",
    "    education = bank_df.loc[np.where(bank_df['ID']==id)][\"Education\"].tolist()[0]\n",
    "    df_filtered = dfposExp[(dfposExp.Age == age) & (dfposExp.Education == education)]\n",
    "    exp = df_filtered['Experience'].median()\n",
    "    bank_df.loc[bank_df.loc[np.where(bank_df['ID']==id)].index, 'Experience'] = exp"
   ]
  },
  {
   "cell_type": "code",
   "execution_count": 36,
   "metadata": {
    "scrolled": true
   },
   "outputs": [
    {
     "data": {
      "text/html": [
       "<div>\n",
       "<style scoped>\n",
       "    .dataframe tbody tr th:only-of-type {\n",
       "        vertical-align: middle;\n",
       "    }\n",
       "\n",
       "    .dataframe tbody tr th {\n",
       "        vertical-align: top;\n",
       "    }\n",
       "\n",
       "    .dataframe thead th {\n",
       "        text-align: right;\n",
       "    }\n",
       "</style>\n",
       "<table border=\"1\" class=\"dataframe\">\n",
       "  <thead>\n",
       "    <tr style=\"text-align: right;\">\n",
       "      <th></th>\n",
       "      <th>ID</th>\n",
       "      <th>Age</th>\n",
       "      <th>Experience</th>\n",
       "      <th>Income</th>\n",
       "      <th>ZIPCode</th>\n",
       "      <th>Family</th>\n",
       "      <th>CCAvg</th>\n",
       "      <th>Education</th>\n",
       "      <th>Mortgage</th>\n",
       "      <th>PersonalLoan</th>\n",
       "      <th>SecuritiesAccount</th>\n",
       "      <th>CDAccount</th>\n",
       "      <th>Online</th>\n",
       "      <th>CreditCard</th>\n",
       "    </tr>\n",
       "  </thead>\n",
       "  <tbody>\n",
       "    <tr>\n",
       "      <th>count</th>\n",
       "      <td>5000.000000</td>\n",
       "      <td>5000.000000</td>\n",
       "      <td>4971.000000</td>\n",
       "      <td>5000.000000</td>\n",
       "      <td>5000.000000</td>\n",
       "      <td>5000.000000</td>\n",
       "      <td>5000.000000</td>\n",
       "      <td>5000.000000</td>\n",
       "      <td>5000.000000</td>\n",
       "      <td>5000.000000</td>\n",
       "      <td>5000.000000</td>\n",
       "      <td>5000.00000</td>\n",
       "      <td>5000.000000</td>\n",
       "      <td>5000.000000</td>\n",
       "    </tr>\n",
       "    <tr>\n",
       "      <th>mean</th>\n",
       "      <td>2500.500000</td>\n",
       "      <td>45.338400</td>\n",
       "      <td>20.243211</td>\n",
       "      <td>73.774200</td>\n",
       "      <td>93152.503000</td>\n",
       "      <td>2.396400</td>\n",
       "      <td>1.937938</td>\n",
       "      <td>1.881000</td>\n",
       "      <td>56.498800</td>\n",
       "      <td>0.096000</td>\n",
       "      <td>0.104400</td>\n",
       "      <td>0.06040</td>\n",
       "      <td>0.596800</td>\n",
       "      <td>0.294000</td>\n",
       "    </tr>\n",
       "    <tr>\n",
       "      <th>std</th>\n",
       "      <td>1443.520003</td>\n",
       "      <td>11.463166</td>\n",
       "      <td>11.359189</td>\n",
       "      <td>46.033729</td>\n",
       "      <td>2121.852197</td>\n",
       "      <td>1.147663</td>\n",
       "      <td>1.747659</td>\n",
       "      <td>0.839869</td>\n",
       "      <td>101.713802</td>\n",
       "      <td>0.294621</td>\n",
       "      <td>0.305809</td>\n",
       "      <td>0.23825</td>\n",
       "      <td>0.490589</td>\n",
       "      <td>0.455637</td>\n",
       "    </tr>\n",
       "    <tr>\n",
       "      <th>min</th>\n",
       "      <td>1.000000</td>\n",
       "      <td>23.000000</td>\n",
       "      <td>0.000000</td>\n",
       "      <td>8.000000</td>\n",
       "      <td>9307.000000</td>\n",
       "      <td>1.000000</td>\n",
       "      <td>0.000000</td>\n",
       "      <td>1.000000</td>\n",
       "      <td>0.000000</td>\n",
       "      <td>0.000000</td>\n",
       "      <td>0.000000</td>\n",
       "      <td>0.00000</td>\n",
       "      <td>0.000000</td>\n",
       "      <td>0.000000</td>\n",
       "    </tr>\n",
       "    <tr>\n",
       "      <th>25%</th>\n",
       "      <td>1250.750000</td>\n",
       "      <td>35.000000</td>\n",
       "      <td>10.000000</td>\n",
       "      <td>39.000000</td>\n",
       "      <td>91911.000000</td>\n",
       "      <td>1.000000</td>\n",
       "      <td>0.700000</td>\n",
       "      <td>1.000000</td>\n",
       "      <td>0.000000</td>\n",
       "      <td>0.000000</td>\n",
       "      <td>0.000000</td>\n",
       "      <td>0.00000</td>\n",
       "      <td>0.000000</td>\n",
       "      <td>0.000000</td>\n",
       "    </tr>\n",
       "    <tr>\n",
       "      <th>50%</th>\n",
       "      <td>2500.500000</td>\n",
       "      <td>45.000000</td>\n",
       "      <td>20.000000</td>\n",
       "      <td>64.000000</td>\n",
       "      <td>93437.000000</td>\n",
       "      <td>2.000000</td>\n",
       "      <td>1.500000</td>\n",
       "      <td>2.000000</td>\n",
       "      <td>0.000000</td>\n",
       "      <td>0.000000</td>\n",
       "      <td>0.000000</td>\n",
       "      <td>0.00000</td>\n",
       "      <td>1.000000</td>\n",
       "      <td>0.000000</td>\n",
       "    </tr>\n",
       "    <tr>\n",
       "      <th>75%</th>\n",
       "      <td>3750.250000</td>\n",
       "      <td>55.000000</td>\n",
       "      <td>30.000000</td>\n",
       "      <td>98.000000</td>\n",
       "      <td>94608.000000</td>\n",
       "      <td>3.000000</td>\n",
       "      <td>2.500000</td>\n",
       "      <td>3.000000</td>\n",
       "      <td>101.000000</td>\n",
       "      <td>0.000000</td>\n",
       "      <td>0.000000</td>\n",
       "      <td>0.00000</td>\n",
       "      <td>1.000000</td>\n",
       "      <td>1.000000</td>\n",
       "    </tr>\n",
       "    <tr>\n",
       "      <th>max</th>\n",
       "      <td>5000.000000</td>\n",
       "      <td>67.000000</td>\n",
       "      <td>43.000000</td>\n",
       "      <td>224.000000</td>\n",
       "      <td>96651.000000</td>\n",
       "      <td>4.000000</td>\n",
       "      <td>10.000000</td>\n",
       "      <td>3.000000</td>\n",
       "      <td>635.000000</td>\n",
       "      <td>1.000000</td>\n",
       "      <td>1.000000</td>\n",
       "      <td>1.00000</td>\n",
       "      <td>1.000000</td>\n",
       "      <td>1.000000</td>\n",
       "    </tr>\n",
       "  </tbody>\n",
       "</table>\n",
       "</div>"
      ],
      "text/plain": [
       "                ID          Age   Experience       Income       ZIPCode  \\\n",
       "count  5000.000000  5000.000000  4971.000000  5000.000000   5000.000000   \n",
       "mean   2500.500000    45.338400    20.243211    73.774200  93152.503000   \n",
       "std    1443.520003    11.463166    11.359189    46.033729   2121.852197   \n",
       "min       1.000000    23.000000     0.000000     8.000000   9307.000000   \n",
       "25%    1250.750000    35.000000    10.000000    39.000000  91911.000000   \n",
       "50%    2500.500000    45.000000    20.000000    64.000000  93437.000000   \n",
       "75%    3750.250000    55.000000    30.000000    98.000000  94608.000000   \n",
       "max    5000.000000    67.000000    43.000000   224.000000  96651.000000   \n",
       "\n",
       "            Family        CCAvg    Education     Mortgage  PersonalLoan  \\\n",
       "count  5000.000000  5000.000000  5000.000000  5000.000000   5000.000000   \n",
       "mean      2.396400     1.937938     1.881000    56.498800      0.096000   \n",
       "std       1.147663     1.747659     0.839869   101.713802      0.294621   \n",
       "min       1.000000     0.000000     1.000000     0.000000      0.000000   \n",
       "25%       1.000000     0.700000     1.000000     0.000000      0.000000   \n",
       "50%       2.000000     1.500000     2.000000     0.000000      0.000000   \n",
       "75%       3.000000     2.500000     3.000000   101.000000      0.000000   \n",
       "max       4.000000    10.000000     3.000000   635.000000      1.000000   \n",
       "\n",
       "       SecuritiesAccount   CDAccount       Online   CreditCard  \n",
       "count        5000.000000  5000.00000  5000.000000  5000.000000  \n",
       "mean            0.104400     0.06040     0.596800     0.294000  \n",
       "std             0.305809     0.23825     0.490589     0.455637  \n",
       "min             0.000000     0.00000     0.000000     0.000000  \n",
       "25%             0.000000     0.00000     0.000000     0.000000  \n",
       "50%             0.000000     0.00000     1.000000     0.000000  \n",
       "75%             0.000000     0.00000     1.000000     1.000000  \n",
       "max             1.000000     1.00000     1.000000     1.000000  "
      ]
     },
     "execution_count": 36,
     "metadata": {},
     "output_type": "execute_result"
    }
   ],
   "source": [
    "bank_df.describe()"
   ]
  },
  {
   "cell_type": "code",
   "execution_count": 37,
   "metadata": {},
   "outputs": [
    {
     "name": "stdout",
     "output_type": "stream",
     "text": [
      "<class 'pandas.core.frame.DataFrame'>\n",
      "RangeIndex: 5000 entries, 0 to 4999\n",
      "Data columns (total 14 columns):\n",
      " #   Column             Non-Null Count  Dtype  \n",
      "---  ------             --------------  -----  \n",
      " 0   ID                 5000 non-null   int64  \n",
      " 1   Age                5000 non-null   int64  \n",
      " 2   Experience         4971 non-null   float64\n",
      " 3   Income             5000 non-null   int64  \n",
      " 4   ZIPCode            5000 non-null   int64  \n",
      " 5   Family             5000 non-null   int64  \n",
      " 6   CCAvg              5000 non-null   float64\n",
      " 7   Education          5000 non-null   int64  \n",
      " 8   Mortgage           5000 non-null   int64  \n",
      " 9   PersonalLoan       5000 non-null   int64  \n",
      " 10  SecuritiesAccount  5000 non-null   int64  \n",
      " 11  CDAccount          5000 non-null   int64  \n",
      " 12  Online             5000 non-null   int64  \n",
      " 13  CreditCard         5000 non-null   int64  \n",
      "dtypes: float64(2), int64(12)\n",
      "memory usage: 547.0 KB\n"
     ]
    }
   ],
   "source": [
    "bank_df.info()"
   ]
  },
  {
   "cell_type": "code",
   "execution_count": 38,
   "metadata": {
    "scrolled": true
   },
   "outputs": [
    {
     "data": {
      "text/plain": [
       "ID                   0\n",
       "Age                  0\n",
       "Experience           0\n",
       "Income               0\n",
       "ZIPCode              0\n",
       "Family               0\n",
       "CCAvg                0\n",
       "Education            0\n",
       "Mortgage             0\n",
       "PersonalLoan         0\n",
       "SecuritiesAccount    0\n",
       "CDAccount            0\n",
       "Online               0\n",
       "CreditCard           0\n",
       "dtype: int64"
      ]
     },
     "execution_count": 38,
     "metadata": {},
     "output_type": "execute_result"
    }
   ],
   "source": [
    "## A quick check for any negative values in the dataset\n",
    "bank_df.lt(0).sum()"
   ]
  },
  {
   "cell_type": "markdown",
   "metadata": {},
   "source": [
    "<h4> Outlier Treatment for 'Mortgage' </h4>\n",
    "Skewness and Outliers are removed using z-score. We can start by importing z-score from the stats library of scipy. We will identify those rows only whose z_score is less than 3. This will almost amount to 100+ rows which contain outliers which  needs to be dropped before we can start with the model building."
   ]
  },
  {
   "cell_type": "code",
   "execution_count": 39,
   "metadata": {},
   "outputs": [],
   "source": [
    "from scipy import stats\n",
    "bank_df['Mortgage_zscore'] = np.abs(stats.zscore(bank_df['Mortgage']))\n",
    "bank_df=bank_df[bank_df['Mortgage_zscore']<3]\n",
    "bank_df.drop('Mortgage_zscore',axis=1,inplace=True)"
   ]
  },
  {
   "cell_type": "code",
   "execution_count": 40,
   "metadata": {
    "scrolled": false
   },
   "outputs": [
    {
     "name": "stdout",
     "output_type": "stream",
     "text": [
      "<class 'pandas.core.frame.DataFrame'>\n",
      "Int64Index: 4895 entries, 0 to 4999\n",
      "Data columns (total 14 columns):\n",
      " #   Column             Non-Null Count  Dtype  \n",
      "---  ------             --------------  -----  \n",
      " 0   ID                 4895 non-null   int64  \n",
      " 1   Age                4895 non-null   int64  \n",
      " 2   Experience         4866 non-null   float64\n",
      " 3   Income             4895 non-null   int64  \n",
      " 4   ZIPCode            4895 non-null   int64  \n",
      " 5   Family             4895 non-null   int64  \n",
      " 6   CCAvg              4895 non-null   float64\n",
      " 7   Education          4895 non-null   int64  \n",
      " 8   Mortgage           4895 non-null   int64  \n",
      " 9   PersonalLoan       4895 non-null   int64  \n",
      " 10  SecuritiesAccount  4895 non-null   int64  \n",
      " 11  CDAccount          4895 non-null   int64  \n",
      " 12  Online             4895 non-null   int64  \n",
      " 13  CreditCard         4895 non-null   int64  \n",
      "dtypes: float64(2), int64(12)\n",
      "memory usage: 573.6 KB\n"
     ]
    }
   ],
   "source": [
    "bank_df.info()"
   ]
  },
  {
   "cell_type": "markdown",
   "metadata": {},
   "source": [
    "<h3> 6. SPLIT THE DATA INTO TRAINING AND TEST SET IN 70:30 RATIO </h3>"
   ]
  },
  {
   "cell_type": "code",
   "execution_count": 41,
   "metadata": {},
   "outputs": [],
   "source": [
    "from sklearn.model_selection import train_test_split\n",
    "train_set, test_set = train_test_split(bank_df.drop(['ID','Experience'], axis=1), test_size=0.3 , random_state=100)\n",
    "train_labels = train_set.pop('PersonalLoan')\n",
    "test_labels = test_set.pop('PersonalLoan')"
   ]
  },
  {
   "cell_type": "code",
   "execution_count": 42,
   "metadata": {},
   "outputs": [],
   "source": [
    "train_set_indep = bank_df.drop(['Experience' ,'ID'] , axis = 1).drop(labels= \"PersonalLoan\" , axis = 1)\n",
    "train_set_dep = bank_df[\"PersonalLoan\"]\n",
    "X = np.array(train_set_indep)\n",
    "Y = np.array(train_set_dep)\n",
    "X_Train = X[ :3450, :]\n",
    "X_Test = X[3451: , :]\n",
    "Y_Train = Y[:3450, ]\n",
    "Y_Test = Y[3451:, ]"
   ]
  },
  {
   "cell_type": "markdown",
   "metadata": {},
   "source": [
    "<h3> 7. Model Building - Logistic Regression </h3>"
   ]
  },
  {
   "cell_type": "code",
   "execution_count": 43,
   "metadata": {},
   "outputs": [
    {
     "data": {
      "text/plain": [
       "LogisticRegression(C=1.0, class_weight=None, dual=False, fit_intercept=True,\n",
       "                   intercept_scaling=1, l1_ratio=None, max_iter=100,\n",
       "                   multi_class='auto', n_jobs=None, penalty='l2',\n",
       "                   random_state=None, solver='lbfgs', tol=0.0001, verbose=0,\n",
       "                   warm_start=False)"
      ]
     },
     "execution_count": 43,
     "metadata": {},
     "output_type": "execute_result"
    }
   ],
   "source": [
    "from sklearn.linear_model import LogisticRegression\n",
    "LogReg_model = LogisticRegression()\n",
    "LogReg_model.fit(X_Train,Y_Train)"
   ]
  },
  {
   "cell_type": "code",
   "execution_count": 44,
   "metadata": {},
   "outputs": [
    {
     "name": "stdout",
     "output_type": "stream",
     "text": [
      "              precision    recall  f1-score   support\n",
      "\n",
      "           0       0.96      0.98      0.97      1335\n",
      "           1       0.68      0.50      0.58       109\n",
      "\n",
      "    accuracy                           0.94      1444\n",
      "   macro avg       0.82      0.74      0.77      1444\n",
      "weighted avg       0.94      0.94      0.94      1444\n",
      "\n",
      "0.9445983379501385\n",
      "[[1309   26]\n",
      " [  54   55]]\n"
     ]
    }
   ],
   "source": [
    "y_pred = LogReg_model.predict(X_Test)\n",
    "y_predictProb = LogReg_model.predict_proba(X_Test)\n",
    "print(classification_report(Y_Test,y_pred))\n",
    "print(accuracy_score(Y_Test,y_pred))\n",
    "print(confusion_matrix(Y_Test,y_pred))"
   ]
  },
  {
   "cell_type": "markdown",
   "metadata": {},
   "source": [
    "<h3> Model Evaluation - Logarithmic Regression </h3>"
   ]
  },
  {
   "cell_type": "markdown",
   "metadata": {},
   "source": [
    "From the above classification report, accuracy score and confusion matrix we can deduce the following:\n",
    "<li> Accuracy was 94.45% </li>\n",
    "<li> False Negative is 54. Lower False negative is desired since it indicates the customers who had actually bought the personal loan but our model predicted then to be a non-buyer </li>\n",
    "<li> Recall for '1' is 50% which indicates that out of the total number of customers who actually bought personal loans, our model is able to pick only 50% of the customers to be correctly predicted.  </li>"
   ]
  },
  {
   "cell_type": "markdown",
   "metadata": {},
   "source": [
    "<h3> 8. STANDARDIZATION OF DATASET   </h3>\n",
    "When we build the model, we are left to work with different features which are in difference scales of measures. When building the the models, the estimated weights of these features will update at different rates. This will give some variation in results. Standarding the data features to the same scale will allow the models to run better with accurate results.\n",
    "Dataset is rescaled such that μ = 0 and 𝛔 = 1, and is done through this formula: z=x-μ/𝛔"
   ]
  },
  {
   "cell_type": "code",
   "execution_count": 45,
   "metadata": {},
   "outputs": [],
   "source": [
    "from sklearn import preprocessing \n",
    "\n",
    "scaler=preprocessing.StandardScaler()                 # Create the scaler object\n",
    "scaled_X_Train=scaler.fit_transform(X_Train)          # Fit data into the scaler object\n",
    "scaled_X_Test=scaler.fit_transform(X_Test)"
   ]
  },
  {
   "cell_type": "code",
   "execution_count": 46,
   "metadata": {
    "scrolled": true
   },
   "outputs": [
    {
     "data": {
      "text/plain": [
       "LogisticRegression(C=1.0, class_weight=None, dual=False, fit_intercept=True,\n",
       "                   intercept_scaling=1, l1_ratio=None, max_iter=100,\n",
       "                   multi_class='auto', n_jobs=None, penalty='l2',\n",
       "                   random_state=None, solver='lbfgs', tol=0.0001, verbose=0,\n",
       "                   warm_start=False)"
      ]
     },
     "execution_count": 46,
     "metadata": {},
     "output_type": "execute_result"
    }
   ],
   "source": [
    "LogReg_model = LogisticRegression()\n",
    "LogReg_model.fit(scaled_X_Train,Y_Train)"
   ]
  },
  {
   "cell_type": "code",
   "execution_count": 47,
   "metadata": {},
   "outputs": [
    {
     "name": "stdout",
     "output_type": "stream",
     "text": [
      "              precision    recall  f1-score   support\n",
      "\n",
      "           0       0.97      0.98      0.98      1335\n",
      "           1       0.72      0.62      0.67       109\n",
      "\n",
      "    accuracy                           0.95      1444\n",
      "   macro avg       0.85      0.80      0.82      1444\n",
      "weighted avg       0.95      0.95      0.95      1444\n",
      "\n",
      "0.953601108033241\n",
      "[[1309   26]\n",
      " [  41   68]]\n"
     ]
    }
   ],
   "source": [
    "y_pred = LogReg_model.predict(scaled_X_Test)\n",
    "y_predictProb = LogReg_model.predict_proba(X_Test)\n",
    "print(classification_report(Y_Test,y_pred))\n",
    "print(accuracy_score(Y_Test,y_pred))\n",
    "print(confusion_matrix(Y_Test,y_pred))"
   ]
  },
  {
   "cell_type": "markdown",
   "metadata": {},
   "source": [
    "After the standardization and rerunning the model, the classification report, accuracy score and confusion matrix can be interpreted as follows:\n",
    "<li> Accuracy slightly increased to 95.36% </li>\n",
    "<li> False Negative is 41. Lower It indicates that customers who had actually bought the personal loan but that which our model predicted them to be a non-buyer was lesser </li>\n",
    "<li> Recall for '1' is 62%, a slight increase which indicates that out of the total number of customers who actually bought personal loans, our model is able to pick only 62% of the customers to be correctly predicted.  </li>"
   ]
  },
  {
   "cell_type": "markdown",
   "metadata": {},
   "source": [
    "<h3> 9. Model Building - kNN </h3>"
   ]
  },
  {
   "cell_type": "code",
   "execution_count": 48,
   "metadata": {},
   "outputs": [
    {
     "data": {
      "text/plain": [
       "KNeighborsClassifier(algorithm='auto', leaf_size=30, metric='minkowski',\n",
       "                     metric_params=None, n_jobs=None, n_neighbors=3, p=2,\n",
       "                     weights='uniform')"
      ]
     },
     "execution_count": 48,
     "metadata": {},
     "output_type": "execute_result"
    }
   ],
   "source": [
    "from sklearn.neighbors import KNeighborsClassifier\n",
    "kNN_model = KNeighborsClassifier(n_neighbors=3)\n",
    "kNN_model.fit(X_Train,Y_Train)"
   ]
  },
  {
   "cell_type": "code",
   "execution_count": 49,
   "metadata": {},
   "outputs": [
    {
     "name": "stdout",
     "output_type": "stream",
     "text": [
      "              precision    recall  f1-score   support\n",
      "\n",
      "           0       0.94      0.97      0.95      1335\n",
      "           1       0.40      0.27      0.32       109\n",
      "\n",
      "    accuracy                           0.91      1444\n",
      "   macro avg       0.67      0.62      0.64      1444\n",
      "weighted avg       0.90      0.91      0.91      1444\n",
      "\n",
      "0.9148199445983379\n",
      "[[1292   43]\n",
      " [  80   29]]\n"
     ]
    }
   ],
   "source": [
    "y_pred = kNN_model.predict(X_Test)\n",
    "y_predictProb = kNN_model.predict_proba(X_Test)\n",
    "print(classification_report(Y_Test,y_pred))\n",
    "print(accuracy_score(Y_Test,y_pred))\n",
    "print(confusion_matrix(Y_Test,y_pred))"
   ]
  },
  {
   "cell_type": "markdown",
   "metadata": {},
   "source": [
    "<h3> Model Evaluation - kNN </h3>"
   ]
  },
  {
   "cell_type": "markdown",
   "metadata": {},
   "source": [
    "From the above classification report, accuracy score and confusion matrix we can deduce the following:\n",
    "<li> Accuracy is 91.5% </li>\n",
    "<li> False Negative is 80.  It indicates that customers who had actually bought the personal loan but that which our model predicted them to be a non-buyer. It is higher and not a strong measure for a good model </li>\n",
    "<li> Recall for '1' is 27%, which is also a poor measure.  </li>"
   ]
  },
  {
   "cell_type": "markdown",
   "metadata": {},
   "source": [
    "<h3> 10. Model Building - Naive Bayes </h3>"
   ]
  },
  {
   "cell_type": "code",
   "execution_count": 50,
   "metadata": {},
   "outputs": [
    {
     "data": {
      "text/plain": [
       "GaussianNB(priors=None, var_smoothing=1e-09)"
      ]
     },
     "execution_count": 50,
     "metadata": {},
     "output_type": "execute_result"
    }
   ],
   "source": [
    "from sklearn.naive_bayes import GaussianNB\n",
    "naive_model = GaussianNB()\n",
    "naive_model.fit(X_Train,Y_Train)"
   ]
  },
  {
   "cell_type": "code",
   "execution_count": 51,
   "metadata": {},
   "outputs": [
    {
     "name": "stdout",
     "output_type": "stream",
     "text": [
      "              precision    recall  f1-score   support\n",
      "\n",
      "           0       0.96      0.92      0.94      1335\n",
      "           1       0.34      0.49      0.40       109\n",
      "\n",
      "    accuracy                           0.89      1444\n",
      "   macro avg       0.65      0.70      0.67      1444\n",
      "weighted avg       0.91      0.89      0.90      1444\n",
      "\n",
      "0.889196675900277\n",
      "[[1231  104]\n",
      " [  56   53]]\n"
     ]
    }
   ],
   "source": [
    "y_pred = naive_model.predict(X_Test)\n",
    "y_predictProb = naive_model.predict_proba(X_Test)\n",
    "print(classification_report(Y_Test,y_pred))\n",
    "print(accuracy_score(Y_Test,y_pred))\n",
    "print(confusion_matrix(Y_Test,y_pred))"
   ]
  },
  {
   "cell_type": "markdown",
   "metadata": {},
   "source": [
    "<h3>11. Model Evaluation - Naive Bayes </h3>"
   ]
  },
  {
   "cell_type": "markdown",
   "metadata": {},
   "source": [
    "From the above classification report, accuracy score and confusion matrix we can deduce the following for Naive Bayes model:\n",
    "<li> Accuracy is 89% </li>\n",
    "<li> False Negative is 56.  It indicates that customers who had actually bought the personal loan but that which our model predicted them to be a non-buyer. It is somewhat high and not a strong measure for a good model </li>\n",
    "<li> Recall for '1' is 49%, which is also a poor measure.  </li>"
   ]
  },
  {
   "cell_type": "markdown",
   "metadata": {},
   "source": [
    "<h3>12. Model Comparison </h3>"
   ]
  },
  {
   "cell_type": "code",
   "execution_count": 52,
   "metadata": {},
   "outputs": [
    {
     "name": "stdout",
     "output_type": "stream",
     "text": [
      "LR: 0.923386 (0.016188)\n",
      "KNN: 0.908275 (0.008909)\n",
      "NB: 0.895200 (0.010838)\n"
     ]
    },
    {
     "data": {
      "image/png": "[encoded data removed]",
      "text/plain": [
       "<Figure size 432x288 with 1 Axes>"
      ]
     },
     "metadata": {
      "needs_background": "light"
     },
     "output_type": "display_data"
    }
   ],
   "source": [
    "models = []\n",
    "models.append(('LR', LogisticRegression()))\n",
    "models.append(('KNN', KNeighborsClassifier()))\n",
    "models.append(('NB', GaussianNB()))\n",
    "\n",
    "# Evaluate each model in turn\n",
    "results = []\n",
    "names = []\n",
    "scoring = 'accuracy'\n",
    "for name, model in models:\n",
    "    kfold = model_selection.KFold(n_splits=10, random_state=12345)\n",
    "    cv_results = model_selection.cross_val_score(model, X, Y, cv=kfold, scoring=scoring)\n",
    "    results.append(cv_results)\n",
    "    names.append(name)\n",
    "    msg = \"%s: %f (%f)\" % (name, cv_results.mean(), cv_results.std())\n",
    "    print(msg)\n",
    "    \n",
    "# Boxplot algorithm comparison\n",
    "fig = plt.figure()\n",
    "fig.suptitle('Algorithm Comparison')\n",
    "ax = fig.add_subplot(111)\n",
    "plt.boxplot(results)\n",
    "ax.set_xticklabels(names)\n",
    "plt.show()"
   ]
  },
  {
   "cell_type": "markdown",
   "metadata": {},
   "source": [
    "<h3>CONCLUSION </h3>"
   ]
  },
  {
   "cell_type": "markdown",
   "metadata": {},
   "source": [
    "For the Banking Customer Data prediction, we have evalued the LR, kNN and Naive Bayes Model Algorithms. From the above model comparison and graph, it is evident that LR Algorithm has a Higher Accuracy, Low False Negative and High Recall for '1'. Hence to support the project objective i.e to help convert Thera Bank's liability customers into loan customers, predictive information can best be provide by the LR model with greater accuracy. "
   ]
  }
 ],
 "metadata": {
  "kernelspec": {
   "display_name": "Python 3",
   "language": "python",
   "name": "python3"
  },
  "language_info": {
   "codemirror_mode": {
    "name": "ipython",
    "version": 3
   },
   "file_extension": ".py",
   "mimetype": "text/x-python",
   "name": "python",
   "nbconvert_exporter": "python",
   "pygments_lexer": "ipython3",
   "version": "3.8.5"
  }
 },
 "nbformat": 4,
 "nbformat_minor": 4
}
