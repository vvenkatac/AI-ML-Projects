{
 "cells": [
  {
   "cell_type": "markdown",
   "metadata": {},
   "source": [
    "<h1>SVHN Image Classification using Neural Network </h1>"
   ]
  },
  {
   "cell_type": "markdown",
   "metadata": {},
   "source": [
    "<h2> Overview </h2>"
   ]
  },
  {
   "cell_type": "markdown",
   "metadata": {},
   "source": [
    "Recognizing multi-digit numbers in photographs captured at street level is an important component of modern-day map making. A classic example of such street-level photographs is Google’s Street View imagery comprised of hundreds of millions of geo-located 360-degree panoramic images. The ability to automatically transcribe an address number from a geo-located patch of pixels and associate the transcribed number with a known street address helps pinpoint, with a high degree of accuracy, the location of the building it represents.Recognizing numbers in photographs through OCR is limited due to the wide variability in the visual appearance of text in the wild on account of a large range of fonts, colours, styles, orientations, and character arrangements. The recognition problem is further complicated by environmental factors such as lighting, shadows, specularities, and occlusions as well as by image acquisition factors such as resolution, motion, and focus blurs.  "
   ]
  },
  {
   "cell_type": "markdown",
   "metadata": {},
   "source": [
    "<h2> Objective </h2>"
   ]
  },
  {
   "cell_type": "markdown",
   "metadata": {},
   "source": [
    "The objective of the project is to learn how to implement a simple image classification pipeline based on a deep neural network and understand the basics of Image Classification.\n",
    "\n",
    "The goals of this project are as follows:\n",
    "\n",
    "1. Read the data from the h5py file and understand the train/test splits\n",
    "2. Reshape and normalize the train and test features\n",
    "3. One hot encode the labels for train and test data\n",
    "4. Define the model architecture using TensorFlow with a flatten layer followed by dense layers with activation as ReLu and softmax\n",
    "5. Compile the model with loss as categorical cross-entropy and adam optimizers. Use accuracy as the metric for evaluation\n",
    "6. Fit and evaluate the model. Print the loss and accuracy for the test data"
   ]
  },
  {
   "cell_type": "markdown",
   "metadata": {},
   "source": [
    "<h2> Project Implementation </h2>"
   ]
  },
  {
   "cell_type": "markdown",
   "metadata": {},
   "source": [
    "<h3> Import Required Libraries </h3>"
   ]
  },
  {
   "cell_type": "code",
   "execution_count": 174,
   "metadata": {},
   "outputs": [],
   "source": [
    "import tensorflow as tf\n",
    "import numpy as np\n",
    "import matplotlib.pyplot as plt\n",
    "import logging\n",
    "import random\n",
    "import h5py\n",
    "import os\n",
    "from tensorflow.keras.utils import to_categorical\n",
    "from tensorflow.keras.models import Sequential\n",
    "from tensorflow.keras.layers import Dense, BatchNormalization, Dropout\n",
    "from tensorflow.keras.callbacks import EarlyStopping, ModelCheckpoint, TensorBoard\n",
    "from tensorflow.keras.optimizers import SGD, Adam, Nadam\n",
    "from tensorflow.keras.preprocessing.image import ImageDataGenerator\n",
    "\n",
    "# Disable warnings\n",
    "logging.disable(logging.WARNING) \n",
    "# Set random seed\n",
    "random.seed(1)                   \n",
    "# Draw Plots Inline\n",
    "%matplotlib inline               "
   ]
  },
  {
   "cell_type": "markdown",
   "metadata": {},
   "source": [
    "<h2> 1. Read the data from the h5py file and understand the train/test splits </h2>"
   ]
  },
  {
   "cell_type": "markdown",
   "metadata": {},
   "source": [
    "<h3> Load the dataset </h3>"
   ]
  },
  {
   "cell_type": "code",
   "execution_count": 175,
   "metadata": {},
   "outputs": [],
   "source": [
    "#Open the file as read-only\n",
    "h5f = h5py.File('SVHN_single_grey1.h5', 'r')"
   ]
  },
  {
   "cell_type": "code",
   "execution_count": 176,
   "metadata": {},
   "outputs": [],
   "source": [
    "#Load the training and test data\n",
    "X_train = h5f['X_train'][:]\n",
    "y_train = h5f['y_train'][:]\n",
    "X_test = h5f['X_test'][:]\n",
    "y_test = h5f['y_test'][:]"
   ]
  },
  {
   "cell_type": "markdown",
   "metadata": {},
   "source": [
    "<h3> Understand the Train / Test Splits </h3>"
   ]
  },
  {
   "cell_type": "code",
   "execution_count": 177,
   "metadata": {},
   "outputs": [
    {
     "data": {
      "text/plain": [
       "(42000, 32, 32)"
      ]
     },
     "execution_count": 177,
     "metadata": {},
     "output_type": "execute_result"
    }
   ],
   "source": [
    "X_train.shape"
   ]
  },
  {
   "cell_type": "markdown",
   "metadata": {},
   "source": [
    "<h4> The training dataset contains 42k images with 32 x 32 pixels each </h4>"
   ]
  },
  {
   "cell_type": "code",
   "execution_count": 178,
   "metadata": {
    "scrolled": true
   },
   "outputs": [
    {
     "data": {
      "text/plain": [
       "(42000,)"
      ]
     },
     "execution_count": 178,
     "metadata": {},
     "output_type": "execute_result"
    }
   ],
   "source": [
    "y_train.shape"
   ]
  },
  {
   "cell_type": "markdown",
   "metadata": {},
   "source": [
    "<h4> The training dataset also contains 42k labels with proper classification for the images </h4>"
   ]
  },
  {
   "cell_type": "code",
   "execution_count": 179,
   "metadata": {},
   "outputs": [
    {
     "data": {
      "text/plain": [
       "(18000, 32, 32)"
      ]
     },
     "execution_count": 179,
     "metadata": {},
     "output_type": "execute_result"
    }
   ],
   "source": [
    "X_test.shape"
   ]
  },
  {
   "cell_type": "markdown",
   "metadata": {},
   "source": [
    "<h4> The test dataset contains 18k images with 32 x 32 pixels each </h4>"
   ]
  },
  {
   "cell_type": "code",
   "execution_count": 180,
   "metadata": {},
   "outputs": [
    {
     "data": {
      "text/plain": [
       "(18000,)"
      ]
     },
     "execution_count": 180,
     "metadata": {},
     "output_type": "execute_result"
    }
   ],
   "source": [
    "y_test.shape"
   ]
  },
  {
   "cell_type": "markdown",
   "metadata": {},
   "source": [
    "<h4> The test dataset contains 18k labels with proper classification for the images </h4>"
   ]
  },
  {
   "cell_type": "code",
   "execution_count": 181,
   "metadata": {},
   "outputs": [],
   "source": [
    "X_Orig_train=X_train\n",
    "X_Orig_test=X_test"
   ]
  },
  {
   "cell_type": "markdown",
   "metadata": {},
   "source": [
    "<h3> Display the first 25 images of the dataset </h3>"
   ]
  },
  {
   "cell_type": "code",
   "execution_count": 182,
   "metadata": {},
   "outputs": [
    {
     "data": {
      "image/png": "[encoded data removed]",
      "text/plain": [
       "<Figure size 432x432 with 25 Axes>"
      ]
     },
     "metadata": {
      "needs_background": "light"
     },
     "output_type": "display_data"
    }
   ],
   "source": [
    "#set the size of the plot\n",
    "plt.figure(figsize=(6,6))\n",
    "\n",
    "for index in range(25):\n",
    "  plt.subplot(5,5, index+1)\n",
    "  plt.imshow(X_Orig_train[index], cmap='gray')\n",
    "  plt.axis('off')\n",
    "\n",
    "plt.tight_layout()"
   ]
  },
  {
   "cell_type": "code",
   "execution_count": null,
   "metadata": {},
   "outputs": [],
   "source": []
  },
  {
   "cell_type": "markdown",
   "metadata": {},
   "source": [
    "<h3> Display the first 25 labels for the above images of the dataset </h3>"
   ]
  },
  {
   "cell_type": "code",
   "execution_count": 183,
   "metadata": {},
   "outputs": [
    {
     "data": {
      "text/plain": [
       "array([2, 6, 7, 4, 4, 0, 3, 0, 7, 3, 1, 0, 1, 3, 1, 1, 0, 0, 8, 4, 6, 5,\n",
       "       7, 9, 1], dtype=uint8)"
      ]
     },
     "execution_count": 183,
     "metadata": {},
     "output_type": "execute_result"
    }
   ],
   "source": [
    "y_train[0:25]"
   ]
  },
  {
   "cell_type": "markdown",
   "metadata": {},
   "source": [
    "<h4> From the above when we compare the images with their respective classes we observe that while some Images are blurred other images have multiple digits in them and there is no consistency in the way the digits appear in different images\n",
    "</h4>"
   ]
  },
  {
   "cell_type": "code",
   "execution_count": null,
   "metadata": {},
   "outputs": [],
   "source": []
  },
  {
   "cell_type": "markdown",
   "metadata": {},
   "source": [
    "<h2> 2. Reshape and Normalize the Train and Test features </h2>"
   ]
  },
  {
   "cell_type": "markdown",
   "metadata": {},
   "source": [
    "<h3> Print shape of the data </h3>"
   ]
  },
  {
   "cell_type": "code",
   "execution_count": 122,
   "metadata": {},
   "outputs": [
    {
     "name": "stdout",
     "output_type": "stream",
     "text": [
      "(42000, 32, 32)\n",
      "(42000,)\n",
      "(18000, 32, 32)\n",
      "(18000,)\n"
     ]
    }
   ],
   "source": [
    "print(X_train.shape)\n",
    "print(y_train.shape)\n",
    "print(X_test.shape)\n",
    "print(y_test.shape)"
   ]
  },
  {
   "cell_type": "markdown",
   "metadata": {},
   "source": [
    "<h3> Reshape train and test sets into compatible shapes </h3>"
   ]
  },
  {
   "cell_type": "markdown",
   "metadata": {},
   "source": [
    "- Sequential model in tensorflow.keras expects data to be in the format (n_e, n_h, n_w, n_c)\n",
    "- n_e= number of examples, n_h = height, n_w = width, n_c = number of channels\n",
    "- In this case, we will flatten the images on both training and test to 1024 as the image size is 32*32"
   ]
  },
  {
   "cell_type": "code",
   "execution_count": 123,
   "metadata": {},
   "outputs": [],
   "source": [
    "X_train = X_train.reshape(X_train.shape[0], 1024).astype('float32')\n",
    "X_test = X_test.reshape(X_test.shape[0], 1024).astype('float32')"
   ]
  },
  {
   "cell_type": "code",
   "execution_count": 124,
   "metadata": {},
   "outputs": [
    {
     "data": {
      "text/plain": [
       "(42000, 1024)"
      ]
     },
     "execution_count": 124,
     "metadata": {},
     "output_type": "execute_result"
    }
   ],
   "source": [
    "X_train.shape"
   ]
  },
  {
   "cell_type": "code",
   "execution_count": 125,
   "metadata": {},
   "outputs": [
    {
     "data": {
      "text/plain": [
       "(18000, 1024)"
      ]
     },
     "execution_count": 125,
     "metadata": {},
     "output_type": "execute_result"
    }
   ],
   "source": [
    "X_test.shape"
   ]
  },
  {
   "cell_type": "markdown",
   "metadata": {},
   "source": [
    "<h3> Normalize the data </h3>"
   ]
  },
  {
   "cell_type": "markdown",
   "metadata": {},
   "source": [
    "- we must normalize our data as it is always required in neural network models\n",
    "- we can achieve this by dividing the RGB codes with 255 (which is the maximum RGB code minus the minimum RGB code)\n",
    "- normalize X_train and X_test\n",
    "- make sure that the values are float so that we can get decimal points after division"
   ]
  },
  {
   "cell_type": "code",
   "execution_count": 126,
   "metadata": {},
   "outputs": [],
   "source": [
    "X_train /= 255\n",
    "X_test /= 255"
   ]
  },
  {
   "cell_type": "markdown",
   "metadata": {},
   "source": [
    "<h3> Print shape of data and number of images </h3>"
   ]
  },
  {
   "cell_type": "markdown",
   "metadata": {},
   "source": [
    "- print shape of X_train\n",
    "- print number of images in X_train\n",
    "- print number of images in X_test"
   ]
  },
  {
   "cell_type": "code",
   "execution_count": 127,
   "metadata": {},
   "outputs": [
    {
     "name": "stdout",
     "output_type": "stream",
     "text": [
      "X_train shape: (42000, 1024)\n",
      "Images in X_train: 42000\n",
      "Images in X_test: 18000\n",
      "Max value in X_train: 0.9999\n",
      "Min value in X_train: 0.0\n"
     ]
    }
   ],
   "source": [
    "print(\"X_train shape:\", X_train.shape)\n",
    "print(\"Images in X_train:\", X_train.shape[0])\n",
    "print(\"Images in X_test:\", X_test.shape[0])\n",
    "print(\"Max value in X_train:\", X_train.max())\n",
    "print(\"Min value in X_train:\", X_train.min())"
   ]
  },
  {
   "cell_type": "code",
   "execution_count": 128,
   "metadata": {},
   "outputs": [
    {
     "name": "stdout",
     "output_type": "stream",
     "text": [
      "[0.12968785 0.11866706 0.10530196 ... 0.19477727 0.19942354 0.20799099]\n",
      "[0.15905097 0.18349686 0.19206432 ... 0.43143883 0.4360851  0.44780627]\n"
     ]
    }
   ],
   "source": [
    "#Verify that data of the first image in the training and test dataset\n",
    "print (X_train[0])\n",
    "print (X_test[0])"
   ]
  },
  {
   "cell_type": "markdown",
   "metadata": {},
   "source": [
    "<h2> 3. One hot encoding of Labels for Train and Test data </h2>"
   ]
  },
  {
   "cell_type": "markdown",
   "metadata": {},
   "source": [
    "The output of the network needs to classify the images between 0 to 9 i.e there are 10 classes. The loss function used in our neural network will be cross entropy which expects the data in one hot encoding.\n",
    "\n",
    "So we,\n",
    "- convert class vectors (integers) to binary class matrix\n",
    "- convert y_train and y_test\n",
    "- number of classes: 10\n",
    "- we are doing this to use categorical_crossentropy as loss"
   ]
  },
  {
   "cell_type": "code",
   "execution_count": 129,
   "metadata": {},
   "outputs": [
    {
     "name": "stdout",
     "output_type": "stream",
     "text": [
      "Shape of y_train: (42000, 10)\n",
      "One value of y_train: [0. 0. 1. 0. 0. 0. 0. 0. 0. 0.]\n"
     ]
    }
   ],
   "source": [
    "y_train = to_categorical(y_train, num_classes=10)\n",
    "y_test = to_categorical(y_test, num_classes=10)\n",
    "\n",
    "print(\"Shape of y_train:\", y_train.shape)\n",
    "print(\"One value of y_train:\", y_train[0])"
   ]
  },
  {
   "cell_type": "markdown",
   "metadata": {},
   "source": [
    "<h2> 4. Neural Network architecture with SGD optimization </h2>"
   ]
  },
  {
   "cell_type": "markdown",
   "metadata": {},
   "source": [
    "The neural network architecture design will have the following propoerties\n",
    "\n",
    "**Input Layer :**\n",
    "- No. of neurons : **1024**\n",
    "\n",
    "**Hidden Layer 1 :**\n",
    "- No. of neurons : **64**\n",
    "- Activation Function : **ReLU**\n",
    "- Batch Normalization : **Yes**\n",
    "\n",
    "**Hidden Layer 2 :**\n",
    "- No. of neurons : **64**\n",
    "- Activation Function : **ReLU**\n",
    "- Batch Normalization : **Yes**\n",
    "\n",
    "**Hidden Layer 3 :**\n",
    "- No. of neurons : **32**\n",
    "- Activation Function : **ReLU**\n",
    "- Batch Normalization : **Yes**\n",
    "- Dropout : **0.3**\n",
    "\n",
    "**Output Layer :**\n",
    "- No. of neurons : **10**\n",
    "- Activation Function : **Softmax**\n",
    "\n",
    "**Additional properties of neural network**\n",
    "- Optimizer : **SGD**\n",
    "- Learning rate : **0.01**\n",
    "- Loss Function : **Cross Entropy**\n",
    "- Batch Size : **60**\n",
    "- Epoch : **25**"
   ]
  },
  {
   "cell_type": "markdown",
   "metadata": {},
   "source": [
    "<h3> Define the Neural Network architecture </h3>"
   ]
  },
  {
   "cell_type": "code",
   "execution_count": 23,
   "metadata": {},
   "outputs": [],
   "source": [
    "svhn_model = Sequential()\n",
    "#First Hidden Layer\n",
    "svhn_model.add(Dense(64, activation='relu', input_shape=(1024,)))\n",
    "\n",
    "#Add batch normalization\n",
    "svhn_model.add(BatchNormalization())\n",
    "\n",
    "#Second Hidden Layer\n",
    "svhn_model.add(Dense(64, activation='relu'))\n",
    "\n",
    "#Add batch normalization\n",
    "svhn_model.add(BatchNormalization())\n",
    "\n",
    "# Third Hidden Layer\n",
    "svhn_model.add(Dense(32, activation='relu'))\n",
    "\n",
    "#Add batch normalization\n",
    "svhn_model.add(BatchNormalization())\n",
    "\n",
    "# Add dropout of 30% for regularization\n",
    "svhn_model.add(Dropout(0.3))\n",
    "\n",
    "#Output layer\n",
    "svhn_model.add(Dense(10, activation='softmax'))"
   ]
  },
  {
   "cell_type": "markdown",
   "metadata": {},
   "source": [
    "<h3> Model Summary </h3>"
   ]
  },
  {
   "cell_type": "code",
   "execution_count": 24,
   "metadata": {},
   "outputs": [
    {
     "name": "stdout",
     "output_type": "stream",
     "text": [
      "Model: \"sequential_1\"\n",
      "_________________________________________________________________\n",
      "Layer (type)                 Output Shape              Param #   \n",
      "=================================================================\n",
      "dense (Dense)                (None, 64)                65600     \n",
      "_________________________________________________________________\n",
      "batch_normalization (BatchNo (None, 64)                256       \n",
      "_________________________________________________________________\n",
      "dense_1 (Dense)              (None, 64)                4160      \n",
      "_________________________________________________________________\n",
      "batch_normalization_1 (Batch (None, 64)                256       \n",
      "_________________________________________________________________\n",
      "dense_2 (Dense)              (None, 32)                2080      \n",
      "_________________________________________________________________\n",
      "batch_normalization_2 (Batch (None, 32)                128       \n",
      "_________________________________________________________________\n",
      "dropout (Dropout)            (None, 32)                0         \n",
      "_________________________________________________________________\n",
      "dense_3 (Dense)              (None, 10)                330       \n",
      "=================================================================\n",
      "Total params: 72,810\n",
      "Trainable params: 72,490\n",
      "Non-trainable params: 320\n",
      "_________________________________________________________________\n"
     ]
    }
   ],
   "source": [
    "svhn_model.summary()"
   ]
  },
  {
   "cell_type": "markdown",
   "metadata": {},
   "source": [
    "<h3> Compile the Model </h3>"
   ]
  },
  {
   "cell_type": "code",
   "execution_count": 130,
   "metadata": {},
   "outputs": [],
   "source": [
    "# The model will use SGD as optimizer with learning rate of 0.01 and cross entropy as loss function\n",
    "svhn_model.compile(optimizer=SGD(learning_rate=0.01), loss='categorical_crossentropy', metrics=['accuracy'])"
   ]
  },
  {
   "cell_type": "markdown",
   "metadata": {},
   "source": [
    "<h3> Define output path for logs and callbacks </h3>"
   ]
  },
  {
   "cell_type": "code",
   "execution_count": 132,
   "metadata": {},
   "outputs": [],
   "source": [
    "output_dir = 'Model_Output/'"
   ]
  },
  {
   "cell_type": "code",
   "execution_count": 133,
   "metadata": {},
   "outputs": [],
   "source": [
    "run_name = 'regression_baseline'\n",
    "output_path = output_dir + run_name"
   ]
  },
  {
   "cell_type": "code",
   "execution_count": 134,
   "metadata": {},
   "outputs": [],
   "source": [
    "#Define a model checkpoint callback which will be used to save weights for each spoch\n",
    "modelcheckpoint = ModelCheckpoint(output_path + '/weights.{epoch:02d}.hdf5', save_weights_only=True)"
   ]
  },
  {
   "cell_type": "code",
   "execution_count": 135,
   "metadata": {},
   "outputs": [],
   "source": [
    "# If the directory does not exist, create the directory\n",
    "if not os.path.exists(output_path):\n",
    "   os.makedirs(output_path)"
   ]
  },
  {
   "cell_type": "code",
   "execution_count": 136,
   "metadata": {},
   "outputs": [],
   "source": [
    "#Define tensorboard log file\n",
    "tensorboard = TensorBoard(log_dir='logs/' + run_name)"
   ]
  },
  {
   "cell_type": "markdown",
   "metadata": {},
   "source": [
    "<h3> Train the model </h3>"
   ]
  },
  {
   "cell_type": "code",
   "execution_count": 138,
   "metadata": {},
   "outputs": [
    {
     "name": "stdout",
     "output_type": "stream",
     "text": [
      "Epoch 1/25\n",
      "700/700 [==============================] - 1s 2ms/step - loss: 0.6536 - accuracy: 0.8002 - val_loss: 0.6633 - val_accuracy: 0.8006\n",
      "Epoch 2/25\n",
      "700/700 [==============================] - 1s 2ms/step - loss: 0.6550 - accuracy: 0.8015 - val_loss: 0.7178 - val_accuracy: 0.7799\n",
      "Epoch 3/25\n",
      "700/700 [==============================] - 1s 2ms/step - loss: 0.6529 - accuracy: 0.8036 - val_loss: 0.6739 - val_accuracy: 0.7940\n",
      "Epoch 4/25\n",
      "700/700 [==============================] - 1s 2ms/step - loss: 0.6500 - accuracy: 0.8023 - val_loss: 0.7506 - val_accuracy: 0.7682\n",
      "Epoch 5/25\n",
      "700/700 [==============================] - 1s 2ms/step - loss: 0.6476 - accuracy: 0.8019 - val_loss: 0.6180 - val_accuracy: 0.8133\n",
      "Epoch 6/25\n",
      "700/700 [==============================] - 1s 2ms/step - loss: 0.6525 - accuracy: 0.8034 - val_loss: 0.6613 - val_accuracy: 0.7961\n",
      "Epoch 7/25\n",
      "700/700 [==============================] - 1s 2ms/step - loss: 0.6488 - accuracy: 0.8023 - val_loss: 0.6210 - val_accuracy: 0.8117\n",
      "Epoch 8/25\n",
      "700/700 [==============================] - 1s 2ms/step - loss: 0.6526 - accuracy: 0.8015 - val_loss: 0.6358 - val_accuracy: 0.8103\n",
      "Epoch 9/25\n",
      "700/700 [==============================] - 1s 2ms/step - loss: 0.6521 - accuracy: 0.7999 - val_loss: 0.6854 - val_accuracy: 0.7908\n",
      "Epoch 10/25\n",
      "700/700 [==============================] - 1s 2ms/step - loss: 0.6414 - accuracy: 0.8039 - val_loss: 0.6558 - val_accuracy: 0.7978\n",
      "Epoch 11/25\n",
      "700/700 [==============================] - 1s 2ms/step - loss: 0.6480 - accuracy: 0.8027 - val_loss: 0.5993 - val_accuracy: 0.8208\n",
      "Epoch 12/25\n",
      "700/700 [==============================] - 1s 2ms/step - loss: 0.6414 - accuracy: 0.8041 - val_loss: 0.6406 - val_accuracy: 0.8062\n",
      "Epoch 13/25\n",
      "700/700 [==============================] - 1s 2ms/step - loss: 0.6480 - accuracy: 0.8015 - val_loss: 0.6837 - val_accuracy: 0.7868\n",
      "Epoch 14/25\n",
      "700/700 [==============================] - 1s 2ms/step - loss: 0.6353 - accuracy: 0.8063 - val_loss: 0.7575 - val_accuracy: 0.7633\n",
      "Epoch 15/25\n",
      "700/700 [==============================] - 1s 2ms/step - loss: 0.6386 - accuracy: 0.8048 - val_loss: 0.6147 - val_accuracy: 0.8145\n",
      "Epoch 16/25\n",
      "700/700 [==============================] - 1s 2ms/step - loss: 0.6391 - accuracy: 0.8081 - val_loss: 0.6599 - val_accuracy: 0.7987\n",
      "Epoch 17/25\n",
      "700/700 [==============================] - 1s 2ms/step - loss: 0.6365 - accuracy: 0.8048 - val_loss: 0.6649 - val_accuracy: 0.7992\n",
      "Epoch 18/25\n",
      "700/700 [==============================] - 1s 2ms/step - loss: 0.6355 - accuracy: 0.8075 - val_loss: 0.7128 - val_accuracy: 0.7803\n",
      "Epoch 19/25\n",
      "700/700 [==============================] - 1s 2ms/step - loss: 0.6382 - accuracy: 0.8061 - val_loss: 0.6009 - val_accuracy: 0.8176\n",
      "Epoch 20/25\n",
      "700/700 [==============================] - 1s 2ms/step - loss: 0.6355 - accuracy: 0.8066 - val_loss: 0.7068 - val_accuracy: 0.7847\n",
      "Epoch 21/25\n",
      "700/700 [==============================] - 1s 2ms/step - loss: 0.6406 - accuracy: 0.8054 - val_loss: 0.6750 - val_accuracy: 0.7948\n",
      "Epoch 22/25\n",
      "700/700 [==============================] - 1s 2ms/step - loss: 0.6340 - accuracy: 0.8068 - val_loss: 0.6723 - val_accuracy: 0.7949\n",
      "Epoch 23/25\n",
      "700/700 [==============================] - 1s 2ms/step - loss: 0.6332 - accuracy: 0.8072 - val_loss: 0.6557 - val_accuracy: 0.7981\n",
      "Epoch 24/25\n",
      "700/700 [==============================] - 1s 2ms/step - loss: 0.6296 - accuracy: 0.8086 - val_loss: 0.7163 - val_accuracy: 0.7808\n",
      "Epoch 25/25\n",
      "700/700 [==============================] - 1s 2ms/step - loss: 0.6332 - accuracy: 0.8067 - val_loss: 0.6221 - val_accuracy: 0.8117\n"
     ]
    },
    {
     "data": {
      "text/plain": [
       "<tensorflow.python.keras.callbacks.History at 0x15804946ca0>"
      ]
     },
     "execution_count": 138,
     "metadata": {},
     "output_type": "execute_result"
    }
   ],
   "source": [
    "# Train the model with batch size of 60 (which means each batch will have 700 images) and epoch of 25. \n",
    "svhn_model.fit(X_train, y_train, validation_data=(X_test, y_test), batch_size=60, epochs=25, verbose=1)"
   ]
  },
  {
   "cell_type": "markdown",
   "metadata": {},
   "source": [
    "<h4> The best performance of our model is on epoch 11 with validation accuracy of ~82%. We will change some aspects of our model architecture to see if we can increase the accuracy. </h4>"
   ]
  },
  {
   "cell_type": "code",
   "execution_count": null,
   "metadata": {},
   "outputs": [],
   "source": []
  },
  {
   "cell_type": "markdown",
   "metadata": {},
   "source": [
    "<h2>5. Neural Network architecture with Adam optimization </h2>"
   ]
  },
  {
   "cell_type": "markdown",
   "metadata": {},
   "source": [
    "We will fine tune the architecture by making the following changes to the architecture\n",
    "\n",
    "1) One additional hidden layer\n",
    "\n",
    "2) Increase the number of neurons to 128 in first hidden layer\n",
    "\n",
    "3) Optimizer = 'nadam'\n",
    "\n",
    "4) Batch Size = 40"
   ]
  },
  {
   "cell_type": "markdown",
   "metadata": {},
   "source": [
    "The neural network architecture design will have the following propoerties\n",
    "\n",
    "**Input Layer :**\n",
    "- No. of neurons : 1024\n",
    "\n",
    "**Hidden Layer 1 :**\n",
    "- No. of neurons : **128**\n",
    "- Activation Function : **ReLU**\n",
    "- Batch Normalization : **Yes**\n",
    "\n",
    "**Hidden Layer 2 :**\n",
    "- No. of neurons : **64**\n",
    "- Activation Function : **ReLU**\n",
    "- Batch Normalization : **Yes**\n",
    "\n",
    "**Hidden Layer 3 :**\n",
    "- No. of neurons : **64**\n",
    "- Activation Function : **ReLU**\n",
    "- Batch Normalization : **Yes**\n",
    "\n",
    "**Hidden Layer 4 :**\n",
    "- No. of neurons : **32**\n",
    "- Activation Function : **ReLU**\n",
    "- Batch Normalization : **Yes**\n",
    "\n",
    "**Output Layer :**\n",
    "- No. of neurons : **10**\n",
    "- Activation Function : **Softmax**\n",
    "\n",
    "**Additional properties of neural network**\n",
    "- Optimizer : **nadam**\n",
    "- Learning rate : **0.01**\n",
    "- Loss Function : **Cross Entropy**\n",
    "- Batch Size : **40**\n",
    "- Epoch : **25**"
   ]
  },
  {
   "cell_type": "markdown",
   "metadata": {},
   "source": [
    "<h3> Define the Neural Network architecture with Additional Layer </h3>"
   ]
  },
  {
   "cell_type": "code",
   "execution_count": 29,
   "metadata": {},
   "outputs": [],
   "source": [
    "svhn1_model = Sequential()\n",
    "\n",
    "#First Hidden Layer\n",
    "svhn1_model.add(Dense(128, activation='relu', input_shape=(1024,)))\n",
    "\n",
    "#Add batch normalization\n",
    "svhn1_model.add(BatchNormalization())\n",
    "\n",
    "#Second Hidden Layer\n",
    "svhn1_model.add(Dense(64, activation='relu'))\n",
    "\n",
    "#Add batch normalization\n",
    "svhn1_model.add(BatchNormalization())\n",
    "\n",
    "# Third Hidden Layer\n",
    "svhn1_model.add(Dense(64, activation='relu'))\n",
    "\n",
    "#Add batch normalization\n",
    "svhn1_model.add(BatchNormalization())\n",
    "\n",
    "# Fourth Hidden Layer\n",
    "svhn1_model.add(Dense(32, activation='relu'))\n",
    "\n",
    "#Add batch normalization\n",
    "svhn1_model.add(BatchNormalization())\n",
    "\n",
    "# Add dropout of 30% for regularization\n",
    "svhn1_model.add(Dropout(0.3))\n",
    "\n",
    "#Output layer\n",
    "svhn1_model.add(Dense(10, activation='softmax'))"
   ]
  },
  {
   "cell_type": "code",
   "execution_count": 30,
   "metadata": {},
   "outputs": [
    {
     "name": "stdout",
     "output_type": "stream",
     "text": [
      "Model: \"sequential_2\"\n",
      "_________________________________________________________________\n",
      "Layer (type)                 Output Shape              Param #   \n",
      "=================================================================\n",
      "dense_4 (Dense)              (None, 128)               131200    \n",
      "_________________________________________________________________\n",
      "batch_normalization_3 (Batch (None, 128)               512       \n",
      "_________________________________________________________________\n",
      "dense_5 (Dense)              (None, 64)                8256      \n",
      "_________________________________________________________________\n",
      "batch_normalization_4 (Batch (None, 64)                256       \n",
      "_________________________________________________________________\n",
      "dense_6 (Dense)              (None, 64)                4160      \n",
      "_________________________________________________________________\n",
      "batch_normalization_5 (Batch (None, 64)                256       \n",
      "_________________________________________________________________\n",
      "dense_7 (Dense)              (None, 32)                2080      \n",
      "_________________________________________________________________\n",
      "batch_normalization_6 (Batch (None, 32)                128       \n",
      "_________________________________________________________________\n",
      "dropout_1 (Dropout)          (None, 32)                0         \n",
      "_________________________________________________________________\n",
      "dense_8 (Dense)              (None, 10)                330       \n",
      "=================================================================\n",
      "Total params: 147,178\n",
      "Trainable params: 146,602\n",
      "Non-trainable params: 576\n",
      "_________________________________________________________________\n"
     ]
    }
   ],
   "source": [
    "svhn1_model.summary()"
   ]
  },
  {
   "cell_type": "markdown",
   "metadata": {},
   "source": [
    "<h3> Compile the Model with Adam Optimization and Additional Layer</h3>"
   ]
  },
  {
   "cell_type": "code",
   "execution_count": 140,
   "metadata": {},
   "outputs": [],
   "source": [
    "svhn1_model.compile(optimizer='nadam', loss='categorical_crossentropy', metrics=['accuracy'])"
   ]
  },
  {
   "cell_type": "markdown",
   "metadata": {},
   "source": [
    "<h3> Change the path of logs and create directory </h3>"
   ]
  },
  {
   "cell_type": "code",
   "execution_count": 167,
   "metadata": {},
   "outputs": [],
   "source": [
    "run_name = 'regression_Nadam'\n",
    "output_path = output_dir + run_name"
   ]
  },
  {
   "cell_type": "code",
   "execution_count": 168,
   "metadata": {},
   "outputs": [],
   "source": [
    "# If the directory does not exist, create the directory\n",
    "if not os.path.exists(output_path):\n",
    "    os.makedirs(output_path)"
   ]
  },
  {
   "cell_type": "code",
   "execution_count": 169,
   "metadata": {},
   "outputs": [],
   "source": [
    "#Define a model checkpoint callback which will be used to save weights for each spoch\n",
    "modelcheckpoint = ModelCheckpoint(output_path + '/weights.{epoch:02d}.hdf5', save_weights_only=True)"
   ]
  },
  {
   "cell_type": "code",
   "execution_count": 170,
   "metadata": {},
   "outputs": [],
   "source": [
    "#Define tensorboard log file\n",
    "tensorboard = TensorBoard(log_dir='logs/' + run_name)"
   ]
  },
  {
   "cell_type": "markdown",
   "metadata": {},
   "source": [
    "<h3> Train the model with Adam Optimization </h3>"
   ]
  },
  {
   "cell_type": "code",
   "execution_count": 171,
   "metadata": {},
   "outputs": [
    {
     "name": "stdout",
     "output_type": "stream",
     "text": [
      "Epoch 1/25\n",
      "1050/1050 [==============================] - 3s 3ms/step - loss: 0.5882 - accuracy: 0.8190 - val_loss: 0.6742 - val_accuracy: 0.7988\n",
      "Epoch 2/25\n",
      "1050/1050 [==============================] - 3s 3ms/step - loss: 0.5855 - accuracy: 0.8180 - val_loss: 0.5950 - val_accuracy: 0.8213\n",
      "Epoch 3/25\n",
      "1050/1050 [==============================] - 3s 3ms/step - loss: 0.5839 - accuracy: 0.8186 - val_loss: 0.6505 - val_accuracy: 0.8055\n",
      "Epoch 4/25\n",
      "1050/1050 [==============================] - 3s 3ms/step - loss: 0.5809 - accuracy: 0.8200 - val_loss: 0.6229 - val_accuracy: 0.8113\n",
      "Epoch 5/25\n",
      "1050/1050 [==============================] - 3s 3ms/step - loss: 0.5863 - accuracy: 0.8200 - val_loss: 0.6106 - val_accuracy: 0.8185\n",
      "Epoch 6/25\n",
      "1050/1050 [==============================] - 3s 3ms/step - loss: 0.5838 - accuracy: 0.8192 - val_loss: 0.6440 - val_accuracy: 0.8047\n",
      "Epoch 7/25\n",
      "1050/1050 [==============================] - 3s 3ms/step - loss: 0.5849 - accuracy: 0.8198 - val_loss: 0.6454 - val_accuracy: 0.8071\n",
      "Epoch 8/25\n",
      "1050/1050 [==============================] - 3s 3ms/step - loss: 0.5854 - accuracy: 0.8195 - val_loss: 0.6290 - val_accuracy: 0.8113\n",
      "Epoch 9/25\n",
      "1050/1050 [==============================] - 3s 3ms/step - loss: 0.5833 - accuracy: 0.8202 - val_loss: 0.6535 - val_accuracy: 0.8001\n",
      "Epoch 10/25\n",
      "1050/1050 [==============================] - 3s 3ms/step - loss: 0.5827 - accuracy: 0.8189 - val_loss: 0.6710 - val_accuracy: 0.7962\n",
      "Epoch 11/25\n",
      "1050/1050 [==============================] - 3s 3ms/step - loss: 0.5785 - accuracy: 0.8200 - val_loss: 0.6363 - val_accuracy: 0.8074\n",
      "Epoch 12/25\n",
      "1050/1050 [==============================] - 3s 3ms/step - loss: 0.5813 - accuracy: 0.8200 - val_loss: 0.6009 - val_accuracy: 0.8203\n",
      "Epoch 13/25\n",
      "1050/1050 [==============================] - 3s 3ms/step - loss: 0.5770 - accuracy: 0.8207 - val_loss: 0.6082 - val_accuracy: 0.8179\n",
      "Epoch 14/25\n",
      "1050/1050 [==============================] - 3s 3ms/step - loss: 0.5861 - accuracy: 0.8181 - val_loss: 0.6318 - val_accuracy: 0.8094\n",
      "Epoch 15/25\n",
      "1050/1050 [==============================] - 3s 3ms/step - loss: 0.5854 - accuracy: 0.8179 - val_loss: 0.6251 - val_accuracy: 0.8176\n",
      "Epoch 16/25\n",
      "1050/1050 [==============================] - 3s 3ms/step - loss: 0.5822 - accuracy: 0.8205 - val_loss: 0.6365 - val_accuracy: 0.8071\n",
      "Epoch 17/25\n",
      "1050/1050 [==============================] - 3s 3ms/step - loss: 0.5786 - accuracy: 0.8210 - val_loss: 0.6537 - val_accuracy: 0.8019\n",
      "Epoch 18/25\n",
      "1050/1050 [==============================] - 3s 3ms/step - loss: 0.5753 - accuracy: 0.8207 - val_loss: 0.6051 - val_accuracy: 0.8172\n",
      "Epoch 19/25\n",
      "1050/1050 [==============================] - 3s 3ms/step - loss: 0.5822 - accuracy: 0.8218 - val_loss: 0.6001 - val_accuracy: 0.8203\n",
      "Epoch 20/25\n",
      "1050/1050 [==============================] - 3s 3ms/step - loss: 0.5799 - accuracy: 0.8197 - val_loss: 0.6320 - val_accuracy: 0.8111\n",
      "Epoch 21/25\n",
      "1050/1050 [==============================] - 3s 3ms/step - loss: 0.5848 - accuracy: 0.8195 - val_loss: 0.6315 - val_accuracy: 0.8106\n",
      "Epoch 22/25\n",
      "1050/1050 [==============================] - 3s 3ms/step - loss: 0.5826 - accuracy: 0.8195 - val_loss: 0.6913 - val_accuracy: 0.7924\n",
      "Epoch 23/25\n",
      "1050/1050 [==============================] - 3s 3ms/step - loss: 0.5833 - accuracy: 0.8189 - val_loss: 0.6950 - val_accuracy: 0.7866\n",
      "Epoch 24/25\n",
      "1050/1050 [==============================] - 3s 3ms/step - loss: 0.5818 - accuracy: 0.8208 - val_loss: 0.6602 - val_accuracy: 0.8022\n",
      "Epoch 25/25\n",
      "1050/1050 [==============================] - 3s 3ms/step - loss: 0.5804 - accuracy: 0.8219 - val_loss: 0.6078 - val_accuracy: 0.8179\n"
     ]
    },
    {
     "data": {
      "text/plain": [
       "<tensorflow.python.keras.callbacks.History at 0x1580d410eb0>"
      ]
     },
     "execution_count": 171,
     "metadata": {},
     "output_type": "execute_result"
    }
   ],
   "source": [
    "# Train the model with batch size of 40 (which means each batch will have 1050 images) and epoch of 25. \n",
    "svhn1_model.fit(X_train, y_train, validation_data=(X_test, y_test), batch_size=40, epochs=25, verbose=1)"
   ]
  },
  {
   "cell_type": "markdown",
   "metadata": {},
   "source": [
    "<h4> The best validation accuracy that we achieved was on epoch 19 where the accuracy was ~82%. </h4>"
   ]
  },
  {
   "cell_type": "markdown",
   "metadata": {},
   "source": [
    "<h2> 6. Visualizing some predictions </h2>"
   ]
  },
  {
   "cell_type": "code",
   "execution_count": 184,
   "metadata": {},
   "outputs": [
    {
     "data": {
      "image/png": "[encoded data removed]",
      "text/plain": [
       "<Figure size 144x144 with 1 Axes>"
      ]
     },
     "metadata": {
      "needs_background": "light"
     },
     "output_type": "display_data"
    },
    {
     "name": "stdout",
     "output_type": "stream",
     "text": [
      "Label for the above image:  4\n",
      "Predicted label for above image using SGD Optimization:  [4]\n",
      "Predicted label for above image using Adam Optimization:  [4]\n"
     ]
    },
    {
     "data": {
      "image/png": "[encoded data removed]",
      "text/plain": [
       "<Figure size 144x144 with 1 Axes>"
      ]
     },
     "metadata": {
      "needs_background": "light"
     },
     "output_type": "display_data"
    },
    {
     "name": "stdout",
     "output_type": "stream",
     "text": [
      "Label for the above image:  8\n",
      "Predicted label for above image using SGD Optimization:  [8]\n",
      "Predicted label for above image using Adam Optimization:  [4]\n"
     ]
    },
    {
     "data": {
      "image/png": "[encoded data removed]",
      "text/plain": [
       "<Figure size 144x144 with 1 Axes>"
      ]
     },
     "metadata": {
      "needs_background": "light"
     },
     "output_type": "display_data"
    },
    {
     "name": "stdout",
     "output_type": "stream",
     "text": [
      "Label for the above image:  7\n",
      "Predicted label for above image using SGD Optimization:  [0]\n",
      "Predicted label for above image using Adam Optimization:  [7]\n"
     ]
    },
    {
     "data": {
      "image/png": "[encoded data removed]",
      "text/plain": [
       "<Figure size 144x144 with 1 Axes>"
      ]
     },
     "metadata": {
      "needs_background": "light"
     },
     "output_type": "display_data"
    },
    {
     "name": "stdout",
     "output_type": "stream",
     "text": [
      "Label for the above image:  6\n",
      "Predicted label for above image using SGD Optimization:  [6]\n",
      "Predicted label for above image using Adam Optimization:  [6]\n"
     ]
    },
    {
     "data": {
      "image/png": "[encoded data removed]",
      "text/plain": [
       "<Figure size 144x144 with 1 Axes>"
      ]
     },
     "metadata": {
      "needs_background": "light"
     },
     "output_type": "display_data"
    },
    {
     "name": "stdout",
     "output_type": "stream",
     "text": [
      "Label for the above image:  3\n",
      "Predicted label for above image using SGD Optimization:  [3]\n",
      "Predicted label for above image using Adam Optimization:  [3]\n"
     ]
    }
   ],
   "source": [
    "plt.figure(figsize=(2,2))\n",
    "plt.imshow(X_Orig_test[13], cmap=\"gray\")\n",
    "plt.show()\n",
    "\n",
    "print(\"Label for the above image: \", y_test[13])\n",
    "print(\"Predicted label for above image using SGD Optimization: \", svhn_model.predict_classes(X_Orig_test[13].reshape(1,1024)))\n",
    "print(\"Predicted label for above image using Adam Optimization: \", svhn1_model.predict_classes(X_Orig_test[13].reshape(1,1024)))\n",
    "\n",
    "\n",
    "plt.figure(figsize=(2,2))\n",
    "plt.imshow(X_test[240], cmap=\"gray\")\n",
    "plt.show()\n",
    "\n",
    "print(\"Label for the above image: \", y_test[240])\n",
    "print(\"Predicted label for above image using SGD Optimization: \", svhn_model.predict_classes(X_Orig_test[240].reshape(1,1024)))\n",
    "print(\"Predicted label for above image using Adam Optimization: \", svhn1_model.predict_classes(X_Orig_test[240].reshape(1,1024)))\n",
    "\n",
    "\n",
    "\n",
    "plt.figure(figsize=(2,2))\n",
    "plt.imshow(X_test[1980], cmap=\"gray\")\n",
    "plt.show()\n",
    "\n",
    "print(\"Label for the above image: \", y_test[1980])\n",
    "\n",
    "print(\"Predicted label for above image using SGD Optimization: \", svhn_model.predict_classes(X_Orig_test[1980].reshape(1,1024)))\n",
    "print(\"Predicted label for above image using Adam Optimization: \", svhn1_model.predict_classes(X_Orig_test[1980].reshape(1,1024)))\n",
    "\n",
    "\n",
    "\n",
    "plt.figure(figsize=(2,2))\n",
    "plt.imshow(X_test[7645], cmap=\"gray\")\n",
    "plt.show()\n",
    "\n",
    "print(\"Label for the above image: \", y_test[7645])\n",
    "print(\"Predicted label for above image using SGD Optimization: \", svhn_model.predict_classes(X_Orig_test[7645].reshape(1,1024)))\n",
    "print(\"Predicted label for above image using Adam Optimization: \", svhn1_model.predict_classes(X_Orig_test[7645].reshape(1,1024)))\n",
    "\n",
    "\n",
    "plt.figure(figsize=(2,2))\n",
    "plt.imshow(X_test[12000], cmap=\"gray\")\n",
    "plt.show()\n",
    "\n",
    "print(\"Label for the above image: \", y_test[12000])\n",
    "print(\"Predicted label for above image using SGD Optimization: \", svhn_model.predict_classes(X_Orig_test[12000].reshape(1,1024)))\n",
    "print(\"Predicted label for above image using Adam Optimization: \", svhn1_model.predict_classes(X_Orig_test[12000].reshape(1,1024)))\n"
   ]
  },
  {
   "cell_type": "markdown",
   "metadata": {},
   "source": [
    "<h2> Conclusion </h2>"
   ]
  },
  {
   "cell_type": "markdown",
   "metadata": {},
   "source": [
    "In our initial model architecture validation accuracy was ~82%. After making the following change our accuracy remained almost the same at 82%\n",
    "\n",
    "1) Added one additional hidden layer\n",
    "\n",
    "2) Increased the number of neurons in first hidden layer to 128\n",
    "\n",
    "3) nadam optimizer used\n",
    "\n",
    "4) Batch Size of 40 was used (1050 images used per batch)\n",
    "\n",
    "We can futher increase the accuracy of our model by using convolutional layers."
   ]
  }
 ],
 "metadata": {
  "kernelspec": {
   "display_name": "Python 3",
   "language": "python",
   "name": "python3"
  },
  "language_info": {
   "codemirror_mode": {
    "name": "ipython",
    "version": 3
   },
   "file_extension": ".py",
   "mimetype": "text/x-python",
   "name": "python",
   "nbconvert_exporter": "python",
   "pygments_lexer": "ipython3",
   "version": "3.8.5"
  }
 },
 "nbformat": 4,
 "nbformat_minor": 4
}
